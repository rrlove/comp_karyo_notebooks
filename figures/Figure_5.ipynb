{
 "cells": [
  {
   "cell_type": "markdown",
   "metadata": {},
   "source": [
    "##### plot average genotypes in the validation set for each inversion"
   ]
  },
  {
   "cell_type": "code",
   "execution_count": 1,
   "metadata": {},
   "outputs": [],
   "source": [
    "import allel\n",
    "from collections import namedtuple\n",
    "import datetime\n",
    "import h5py\n",
    "import ingenos\n",
    "import itertools\n",
    "import matplotlib.patches as mpatches\n",
    "import matplotlib.pyplot as plt\n",
    "import numpy as np\n",
    "import pandas as pd\n",
    "import seaborn as sns\n",
    "from sklearn import model_selection\n",
    "%matplotlib inline"
   ]
  },
  {
   "cell_type": "markdown",
   "metadata": {},
   "source": [
    "##### set base directory"
   ]
  },
  {
   "cell_type": "code",
   "execution_count": 2,
   "metadata": {},
   "outputs": [],
   "source": [
    "base = \"/afs/crc.nd.edu/group/BesanskyNGS/data05/comp_karyo\""
   ]
  },
  {
   "cell_type": "markdown",
   "metadata": {},
   "source": [
    "##### read in the data and the splits and subset off the validation set"
   ]
  },
  {
   "cell_type": "markdown",
   "metadata": {},
   "source": [
    "##### 2R data"
   ]
  },
  {
   "cell_type": "code",
   "execution_count": 3,
   "metadata": {},
   "outputs": [],
   "source": [
    "v_2R, g_2R = ingenos.import_data(\n",
    "    \"/afs/crc.nd.edu/group/BesanskyNGS2/inversion_genotyping/merged_p2_and_VObs_2R.h5\", \"2R\")\n",
    "\n",
    "merged_2R = h5py.File(\n",
    "    \"/afs/crc.nd.edu/group/BesanskyNGS2/inversion_genotyping/merged_p2_and_VObs_2R.h5\", \n",
    "    mode=\"r\")\n",
    "\n",
    "gq_2R = merged_2R[\"2R\"]['calldata']['GQ'][:]\n",
    "\n",
    "g_2R.mask = gq_2R < 20"
   ]
  },
  {
   "cell_type": "markdown",
   "metadata": {},
   "source": [
    "##### 2L data"
   ]
  },
  {
   "cell_type": "code",
   "execution_count": 4,
   "metadata": {},
   "outputs": [],
   "source": [
    "path_2L = \"/afs/crc.nd.edu/group/BesanskyNGS2/inversion_genotyping/merged_p2_and_VObs_2L.h5\"\n",
    "chrom_2L = \"2L\"\n",
    "\n",
    "callset_2L = h5py.File(path_2L, mode='r')[chrom_2L]\n",
    "\n",
    "v_2L = allel.VariantChunkedTable(callset_2L['variants'], index='POS',\n",
    "                                names=['POS','REF','ALT','DP','MQ','QD','numalt'])\n",
    "\n",
    "g_2L = allel.GenotypeChunkedArray(callset_2L['calldata']['GT'])\n",
    "\n",
    "gq_2L = callset_2L['calldata']['GQ'][:]\n",
    "\n",
    "g_2L.mask = gq_2L < 20"
   ]
  },
  {
   "cell_type": "markdown",
   "metadata": {},
   "source": [
    "##### metadata"
   ]
  },
  {
   "cell_type": "code",
   "execution_count": 5,
   "metadata": {},
   "outputs": [],
   "source": [
    "md_2L = pd.read_csv(base + \"/metadata/all_samples_2L_metadata_annotated_sites_matching_051019.csv\", sep=\"\\t\")\n",
    "md_2R = pd.read_csv(base + \"/metadata/all_samples_2R_metadata_annotated_sites_matching_052619.csv\", sep=\"\\t\")"
   ]
  },
  {
   "cell_type": "markdown",
   "metadata": {},
   "source": [
    "##### read in original splits"
   ]
  },
  {
   "cell_type": "code",
   "execution_count": 6,
   "metadata": {},
   "outputs": [],
   "source": [
    "splits = np.load(base + \"/metadata/comp_karyo_splits/splits.npy\",\n",
    "                allow_pickle=True).flat[0]\n",
    "\n",
    "d_splits = np.load(base + \"/metadata/comp_karyo_splits/2Rdj_splits.npy\",\n",
    "                  allow_pickle=True).flat[0]"
   ]
  },
  {
   "cell_type": "markdown",
   "metadata": {},
   "source": [
    "##### subset the genotypes and metadata to correspond to the validation set for each inversion"
   ]
  },
  {
   "cell_type": "code",
   "execution_count": 7,
   "metadata": {},
   "outputs": [],
   "source": [
    "g_2La = g_2L.subset(sel1 = md_2L[\"ox_code\"].isin(splits[\"2La\"][\"test\"]).values)\n",
    "g_2Rj = g_2R.subset(sel1 = md_2R[\"ox_code\"].isin(splits[\"2Rj\"][\"test\"]).values)\n",
    "g_2Rb = g_2R.subset(sel1 = md_2R[\"ox_code\"].isin(splits[\"2Rb\"][\"test\"]).values)\n",
    "g_2Rc = g_2R.subset(sel1 = md_2R[\"ox_code\"].isin(splits[\"2Rc\"][\"test\"]).values)\n",
    "g_2Rd = g_2R.subset(sel1 = md_2R[\"ox_code\"].isin(d_splits[\"2Rd\"][\"test\"]).values)\n",
    "g_2Ru = g_2R.subset(sel1 = md_2R[\"ox_code\"].isin(splits[\"2Ru\"][\"test\"]).values)"
   ]
  },
  {
   "cell_type": "code",
   "execution_count": 8,
   "metadata": {},
   "outputs": [],
   "source": [
    "md_2La = md_2L.loc[md_2L[\"ox_code\"].isin(splits[\"2La\"][\"test\"]),:]\n",
    "md_2Rj = md_2R.loc[md_2R[\"ox_code\"].isin(splits[\"2Rj\"][\"test\"]),:]\n",
    "md_2Rb = md_2R.loc[md_2R[\"ox_code\"].isin(splits[\"2Rb\"][\"test\"]),:]\n",
    "md_2Rc = md_2R.loc[md_2R[\"ox_code\"].isin(splits[\"2Rc\"][\"test\"]),:]\n",
    "md_2Rd = md_2R.loc[md_2R[\"ox_code\"].isin(d_splits[\"2Rd\"][\"test\"]),:]\n",
    "md_2Ru = md_2R.loc[md_2R[\"ox_code\"].isin(splits[\"2Ru\"][\"test\"]),:]"
   ]
  },
  {
   "cell_type": "markdown",
   "metadata": {},
   "source": [
    "##### subset 2Rc further by species, excluding Bamako from gambiae ss. In these specimens, the Bamako are the only 2Rj inverted homokaryotypes, so we can remove them on that basis. However, Bamako is formally defined as an An. gambiae inverted homokaryotype for three inversions, 2Rj, 2Rc, and 2Ru"
   ]
  },
  {
   "cell_type": "code",
   "execution_count": 9,
   "metadata": {},
   "outputs": [],
   "source": [
    "g_2Rc_col = g_2Rc.subset(sel1 = md_2Rc[\"species\"] == \"An. coluzzii\")\n",
    "g_2Rc_gam = g_2Rc.subset(sel1 = ((md_2Rc[\"species\"] == \"An. gambiae\") &\\\n",
    "                         (md_2Rc[\"2Rj\"] != \"2.0\")))"
   ]
  },
  {
   "cell_type": "code",
   "execution_count": 10,
   "metadata": {},
   "outputs": [],
   "source": [
    "md_2Rc_col = md_2Rc.loc[md_2Rc[\"species\"] == \"An. coluzzii\",:]\n",
    "md_2Rc_gam = md_2Rc.loc[((md_2Rc[\"species\"] == \"An. gambiae\") &\\\n",
    "                         (md_2Rc[\"2Rj\"] != \"2.0\")),:]"
   ]
  },
  {
   "cell_type": "markdown",
   "metadata": {},
   "source": [
    "##### make sure the shapes of genotypes and metadata match"
   ]
  },
  {
   "cell_type": "code",
   "execution_count": 11,
   "metadata": {
    "scrolled": true
   },
   "outputs": [
    {
     "data": {
      "text/plain": [
       "(337, 30)"
      ]
     },
     "execution_count": 11,
     "metadata": {},
     "output_type": "execute_result"
    }
   ],
   "source": [
    "md_2La.shape"
   ]
  },
  {
   "cell_type": "code",
   "execution_count": 12,
   "metadata": {},
   "outputs": [
    {
     "data": {
      "text/plain": [
       "True"
      ]
     },
     "execution_count": 12,
     "metadata": {},
     "output_type": "execute_result"
    }
   ],
   "source": [
    "md_2La.shape[0] == g_2La.shape[1]"
   ]
  },
  {
   "cell_type": "code",
   "execution_count": 13,
   "metadata": {},
   "outputs": [
    {
     "data": {
      "text/plain": [
       "(195, 61)"
      ]
     },
     "execution_count": 13,
     "metadata": {},
     "output_type": "execute_result"
    }
   ],
   "source": [
    "md_2Rj.shape"
   ]
  },
  {
   "cell_type": "code",
   "execution_count": 14,
   "metadata": {},
   "outputs": [
    {
     "data": {
      "text/plain": [
       "True"
      ]
     },
     "execution_count": 14,
     "metadata": {},
     "output_type": "execute_result"
    }
   ],
   "source": [
    "md_2Rj.shape[0] == g_2Rj.shape[1]"
   ]
  },
  {
   "cell_type": "code",
   "execution_count": 15,
   "metadata": {},
   "outputs": [
    {
     "data": {
      "text/plain": [
       "(325, 61)"
      ]
     },
     "execution_count": 15,
     "metadata": {},
     "output_type": "execute_result"
    }
   ],
   "source": [
    "md_2Rb.shape"
   ]
  },
  {
   "cell_type": "code",
   "execution_count": 16,
   "metadata": {},
   "outputs": [
    {
     "data": {
      "text/plain": [
       "True"
      ]
     },
     "execution_count": 16,
     "metadata": {},
     "output_type": "execute_result"
    }
   ],
   "source": [
    "md_2Rb.shape[0] == g_2Rb.shape[1]"
   ]
  },
  {
   "cell_type": "code",
   "execution_count": 17,
   "metadata": {},
   "outputs": [
    {
     "data": {
      "text/plain": [
       "(80, 61)"
      ]
     },
     "execution_count": 17,
     "metadata": {},
     "output_type": "execute_result"
    }
   ],
   "source": [
    "md_2Rc_col.shape"
   ]
  },
  {
   "cell_type": "code",
   "execution_count": 18,
   "metadata": {},
   "outputs": [
    {
     "data": {
      "text/plain": [
       "True"
      ]
     },
     "execution_count": 18,
     "metadata": {},
     "output_type": "execute_result"
    }
   ],
   "source": [
    "md_2Rc_col.shape[0] == g_2Rc_col.shape[1]"
   ]
  },
  {
   "cell_type": "code",
   "execution_count": 19,
   "metadata": {},
   "outputs": [
    {
     "data": {
      "text/plain": [
       "(196, 61)"
      ]
     },
     "execution_count": 19,
     "metadata": {},
     "output_type": "execute_result"
    }
   ],
   "source": [
    "md_2Rc_gam.shape"
   ]
  },
  {
   "cell_type": "code",
   "execution_count": 20,
   "metadata": {},
   "outputs": [
    {
     "data": {
      "text/plain": [
       "True"
      ]
     },
     "execution_count": 20,
     "metadata": {},
     "output_type": "execute_result"
    }
   ],
   "source": [
    "md_2Rc_gam.shape[0] == g_2Rc_gam.shape[1]"
   ]
  },
  {
   "cell_type": "code",
   "execution_count": 21,
   "metadata": {},
   "outputs": [
    {
     "data": {
      "text/plain": [
       "(201, 61)"
      ]
     },
     "execution_count": 21,
     "metadata": {},
     "output_type": "execute_result"
    }
   ],
   "source": [
    "md_2Rd.shape"
   ]
  },
  {
   "cell_type": "code",
   "execution_count": 22,
   "metadata": {},
   "outputs": [
    {
     "data": {
      "text/plain": [
       "True"
      ]
     },
     "execution_count": 22,
     "metadata": {},
     "output_type": "execute_result"
    }
   ],
   "source": [
    "md_2Rd.shape[0] == g_2Rd.shape[1]"
   ]
  },
  {
   "cell_type": "code",
   "execution_count": 23,
   "metadata": {},
   "outputs": [
    {
     "data": {
      "text/plain": [
       "(286, 61)"
      ]
     },
     "execution_count": 23,
     "metadata": {},
     "output_type": "execute_result"
    }
   ],
   "source": [
    "md_2Ru.shape"
   ]
  },
  {
   "cell_type": "code",
   "execution_count": 24,
   "metadata": {},
   "outputs": [
    {
     "data": {
      "text/plain": [
       "True"
      ]
     },
     "execution_count": 24,
     "metadata": {},
     "output_type": "execute_result"
    }
   ],
   "source": [
    "md_2Ru.shape[0] == g_2Ru.shape[1]"
   ]
  },
  {
   "cell_type": "markdown",
   "metadata": {},
   "source": [
    "##### read in the top SNPs"
   ]
  },
  {
   "cell_type": "code",
   "execution_count": 25,
   "metadata": {},
   "outputs": [],
   "source": [
    "a_top = pd.read_csv(base + \"/data/results/2La/comp/predictive_SNPs_train_set_0995_110918.tsv\",\n",
    "               sep = \"\\t\", header=None)\n",
    "\n",
    "j_top = pd.read_csv(base + \"/data/results/2Rj/comp/predictive_SNPs_train_set_08_110918.tsv\",\n",
    "               sep = \"\\t\", header=None)\n",
    "\n",
    "b_top = pd.read_csv(base + \"/data/results/2Rb/comp/predictive_SNPs_train_set_08_110918.tsv\",\n",
    "               sep = \"\\t\", header=None)\n",
    "\n",
    "u_top = pd.read_csv(base + \"/data/results/2Ru/comp/predictive_SNPs_train_set_08_110918.tsv\",\n",
    "               sep = \"\\t\", header=None)\n",
    "\n",
    "d_top = pd.read_csv(base + \"/data/results/2Rd/comp/predictive_SNPs_train_set_08_052619.tsv\",\n",
    "               sep = \"\\t\", header=None)\n",
    "\n",
    "c_col_top = pd.read_csv(\n",
    "    base + \"/data/results/2Rc/comp/col_predictive_SNPs_train_set_08_031919.tsv\", sep=\"\\t\", \n",
    "    header=None)\n",
    "\n",
    "c_gam_top = pd.read_csv(\n",
    "    base + \"/data/results/2Rc/comp/gam_ss_predictive_SNPs_train_set_08_031919.tsv\",\n",
    "            sep=\"\\t\", header=None)"
   ]
  },
  {
   "cell_type": "markdown",
   "metadata": {},
   "source": [
    "##### define the Inversion namedtuple object to organize the inversions to be queried"
   ]
  },
  {
   "cell_type": "code",
   "execution_count": 26,
   "metadata": {},
   "outputs": [],
   "source": [
    "Inversion = namedtuple('Inversion',['SNPs','metadata','genotypes','inv_title'])"
   ]
  },
  {
   "cell_type": "code",
   "execution_count": 27,
   "metadata": {},
   "outputs": [],
   "source": [
    "inv_dict = {\"2La\" : Inversion(SNPs = a_top.values, metadata = md_2La, genotypes = g_2La,\n",
    "                             inv_title = \"new_PCA_2La\"),\n",
    "            \"2Rj\" : Inversion(SNPs = j_top.values, metadata = md_2Rj, genotypes = g_2Rj,\n",
    "                            inv_title = \"new_PCA_2Rj\"),\n",
    "           \"2Rb\" : Inversion(SNPs = b_top.values, metadata = md_2Rb, genotypes = g_2Rb,\n",
    "                            inv_title = \"new_PCA_2Rb\"),\n",
    "            \"2Rc_col\" : Inversion(SNPs = c_col_top.values, metadata = md_2Rc_col, \n",
    "                                  genotypes = g_2Rc_col,\n",
    "                            inv_title = \"new_PCA_2Rc\"),\n",
    "            \"2Rc_gam\" : Inversion(SNPs = c_gam_top.values, metadata = md_2Rc_gam, \n",
    "                                  genotypes = g_2Rc_gam,\n",
    "                            inv_title = \"new_PCA_2Rc\"),\n",
    "           \"2Rd\" : Inversion(SNPs = d_top[0].values, metadata = md_2Rd, genotypes = g_2Rd,\n",
    "                            inv_title = \"new_PCA_2Rd\"),\n",
    "           \"2Ru\" : Inversion(SNPs = u_top.values, metadata = md_2Ru, genotypes = g_2Ru,\n",
    "                            inv_title = \"new_PCA_2Ru\")}"
   ]
  },
  {
   "cell_type": "code",
   "execution_count": 28,
   "metadata": {},
   "outputs": [
    {
     "data": {
      "text/plain": [
       "{'2La': None,\n",
       " '2Rj': None,\n",
       " '2Rb': None,\n",
       " '2Rc_col': None,\n",
       " '2Rc_gam': None,\n",
       " '2Rd': None,\n",
       " '2Ru': None}"
      ]
     },
     "execution_count": 28,
     "metadata": {},
     "output_type": "execute_result"
    }
   ],
   "source": [
    "average_dict = {inversion : None for inversion in inv_dict.keys()}\n",
    "average_dict"
   ]
  },
  {
   "cell_type": "code",
   "execution_count": 29,
   "metadata": {},
   "outputs": [
    {
     "name": "stdout",
     "output_type": "stream",
     "text": [
      "2La # targets:  209  # found:  209\n",
      "2La  # mismatches:  0 \n",
      "\n"
     ]
    },
    {
     "name": "stderr",
     "output_type": "stream",
     "text": [
      "/afs/crc.nd.edu/user/r/rlove1/.local/lib/python3.7/site-packages/ipykernel_launcher.py:61: SettingWithCopyWarning: \n",
      "A value is trying to be set on a copy of a slice from a DataFrame.\n",
      "Try using .loc[row_indexer,col_indexer] = value instead\n",
      "\n",
      "See the caveats in the documentation: http://pandas.pydata.org/pandas-docs/stable/indexing.html#indexing-view-versus-copy\n",
      "/afs/crc.nd.edu/user/r/rlove1/.local/lib/python3.7/site-packages/ipykernel_launcher.py:62: SettingWithCopyWarning: \n",
      "A value is trying to be set on a copy of a slice from a DataFrame.\n",
      "Try using .loc[row_indexer,col_indexer] = value instead\n",
      "\n",
      "See the caveats in the documentation: http://pandas.pydata.org/pandas-docs/stable/indexing.html#indexing-view-versus-copy\n"
     ]
    },
    {
     "name": "stdout",
     "output_type": "stream",
     "text": [
      "2Rj # targets:  99  # found:  99\n",
      "2Rj  # mismatches:  0 \n",
      "\n",
      "2Rb # targets:  349  # found:  349\n",
      "2Rb  # mismatches:  0 \n",
      "\n",
      "2Rc_col # targets:  57  # found:  57\n",
      "2Rc_col  # mismatches:  0 \n",
      "\n",
      "2Rc_gam # targets:  49  # found:  49\n",
      "2Rc_gam  # mismatches:  1 \n",
      "\n",
      "2Rd # targets:  147  # found:  147\n",
      "2Rd  # mismatches:  0 \n",
      "\n",
      "2Ru # targets:  177  # found:  177\n",
      "2Ru  # mismatches:  0 \n",
      "\n"
     ]
    }
   ],
   "source": [
    "for inversion in inv_dict.keys():\n",
    "    \n",
    "    ##set up objects\n",
    "    SNPs = inv_dict[inversion].SNPs\n",
    "    md = inv_dict[inversion].metadata\n",
    "    gt = inv_dict[inversion].genotypes[:]\n",
    "    col_name = inv_dict[inversion].inv_title\n",
    "    new_col_name = inversion + \"_assigned\"\n",
    "    mean_name = inversion + \"_means\"\n",
    "    \n",
    "    if inversion == \"2La\":\n",
    "        \n",
    "        vt = v_2L[:]\n",
    "        \n",
    "    else:\n",
    "        \n",
    "        vt = v_2R[:]\n",
    "    \n",
    "    ##identify sites found in the data\n",
    "    site_indices = []\n",
    "    \n",
    "    for site in SNPs:\n",
    "    \n",
    "        where = np.where(vt[\"POS\"] == site)\n",
    "        \n",
    "        if len(where[0]) > 0:\n",
    "                \n",
    "            site_indices.append(where[0][0])\n",
    "            \n",
    "    print(inversion, \"# targets: \", str(len(SNPs)), \" # found: \", str(len(site_indices)))\n",
    "    \n",
    "    ##identify biallelic sites\n",
    "    \n",
    "    bi_bool = gt.subset(sel0 = site_indices).count_alleles().max_allele() <= 1\n",
    "        \n",
    "    alts = gt.subset(sel0 = site_indices).subset(sel0 = bi_bool).to_n_alt()\n",
    "        \n",
    "    is_called = gt.subset(sel0 = site_indices).subset(sel0 = bi_bool).is_called()\n",
    "    \n",
    "    av_gts = np.mean(np.ma.MaskedArray(\n",
    "            alts, mask = ~is_called), axis=0).data\n",
    "            \n",
    "    total_sites = np.sum(is_called, axis=0)\n",
    "        \n",
    "    karyos = []\n",
    "    \n",
    "    for alt in av_gts:\n",
    "        \n",
    "        if alt <= (2/3):\n",
    "            \n",
    "            karyos.append(0)\n",
    "            \n",
    "        elif alt > (2/3) and alt <= (4/3):\n",
    "            \n",
    "            karyos.append(1)\n",
    "            \n",
    "        else:\n",
    "            \n",
    "            karyos.append(2)\n",
    "            \n",
    "    md[new_col_name] = karyos\n",
    "    md[mean_name] = av_gts\n",
    "    \n",
    "    mismatches = np.sum(md[new_col_name] != md[col_name].map(float).map(int))\n",
    "\n",
    "    average_dict[inversion] = (len(site_indices), av_gts)\n",
    "\n",
    "    print(inversion, \" # mismatches: \", mismatches,\"\\n\")\n",
    "    #print(av_gts)\n",
    "    #print(total_sites,\"\\n\")"
   ]
  },
  {
   "cell_type": "markdown",
   "metadata": {},
   "source": [
    "##### plot"
   ]
  },
  {
   "cell_type": "code",
   "execution_count": 30,
   "metadata": {},
   "outputs": [],
   "source": [
    "inversion_list = [\"2La\",\"2Rj\",\"2Rb\",\"2Rc_col\",\"2Rc_gam\",\"2Rd\",\"2Ru\"]\n",
    "inversion_title_list = [\"2La\",\"2Rj\",\"2Rb\",\"2Rc coluzzii\",\"2Rc gambiae\",\"2Rd\",\"2Ru\"]"
   ]
  },
  {
   "cell_type": "code",
   "execution_count": 31,
   "metadata": {},
   "outputs": [
    {
     "data": {
      "text/plain": [
       "''"
      ]
     },
     "execution_count": 31,
     "metadata": {},
     "output_type": "execute_result"
    },
    {
     "data": {
      "image/png": "[encoded data removed]",
      "text/plain": [
       "<Figure size 720x1296 with 7 Axes>"
      ]
     },
     "metadata": {
      "needs_background": "light"
     },
     "output_type": "display_data"
    }
   ],
   "source": [
    "outString = ingenos.make_date_stamp(\n",
    "    base + \"/data/results/comp_aim1/validation_set_average_genotypes\")\n",
    "\n",
    "fig, axes = plt.subplots(nrows=7, ncols=1, sharex=True, figsize = (10, 18))\n",
    "\n",
    "for i, ax in enumerate(axes):\n",
    "    \n",
    "    inversion = inversion_list[i]\n",
    "    \n",
    "    name = inversion_title_list[i]\n",
    "        \n",
    "    num_sites = average_dict[inversion][0]\n",
    "    \n",
    "    alts = average_dict[inversion][1]\n",
    "    \n",
    "    #fig, ax = plt.subplots(figsize = (10, 3))\n",
    "    ax.hist(alts, range=(0,2), bins=20)\n",
    "    ax.locator_params(axis=\"y\", integer=True)\n",
    "       \n",
    "    if i == 6:\n",
    "        ax.set_xlabel(\"Average genotype\", fontsize=15)\n",
    "        \n",
    "    ax.set_ylabel(\"# Specimens\", fontsize=15)\n",
    "    ax.tick_params(labelsize=15)\n",
    "    #ax.set_xlim(0,2)\n",
    "    ax.set_title(\"{inversion}: {num} tag SNPs\".format(inversion = name,\n",
    "                                                              num = num_sites), fontsize=15)\n",
    "    \n",
    ";\n",
    "plt.savefig(outString);"
   ]
  },
  {
   "cell_type": "code",
   "execution_count": null,
   "metadata": {},
   "outputs": [],
   "source": []
  }
 ],
 "metadata": {
  "kernelspec": {
   "display_name": "Python 3",
   "language": "python",
   "name": "python3"
  },
  "language_info": {
   "codemirror_mode": {
    "name": "ipython",
    "version": 3
   },
   "file_extension": ".py",
   "mimetype": "text/x-python",
   "name": "python",
   "nbconvert_exporter": "python",
   "pygments_lexer": "ipython3",
   "version": "3.7.3"
  }
 },
 "nbformat": 4,
 "nbformat_minor": 2
}
