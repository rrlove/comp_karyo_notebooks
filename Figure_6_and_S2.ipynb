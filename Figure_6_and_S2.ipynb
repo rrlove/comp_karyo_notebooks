{
 "cells": [
  {
   "cell_type": "markdown",
   "metadata": {},
   "source": [
    "##### redoing the plotting of average genotypes at tag SNPs in the low coverage specimens"
   ]
  },
  {
   "cell_type": "code",
   "execution_count": 1,
   "metadata": {},
   "outputs": [],
   "source": [
    "import allel\n",
    "from collections import namedtuple\n",
    "import datetime\n",
    "import h5py\n",
    "import ingenos\n",
    "import itertools\n",
    "import matplotlib.patches as mpatches\n",
    "import matplotlib.pyplot as plt\n",
    "import numpy as np\n",
    "import pandas as pd\n",
    "import seaborn as sns\n",
    "from sklearn import model_selection\n",
    "%matplotlib inline"
   ]
  },
  {
   "cell_type": "markdown",
   "metadata": {},
   "source": [
    "##### set base directory"
   ]
  },
  {
   "cell_type": "code",
   "execution_count": 2,
   "metadata": {},
   "outputs": [],
   "source": [
    "base = \"/afs/crc.nd.edu/group/BesanskyNGS/data05/comp_karyo\""
   ]
  },
  {
   "cell_type": "markdown",
   "metadata": {},
   "source": [
    "##### read in target SNPs"
   ]
  },
  {
   "cell_type": "code",
   "execution_count": 3,
   "metadata": {},
   "outputs": [],
   "source": [
    "a_top = pd.read_csv(base + \"/data/results/2La/comp/predictive_SNPs_train_set_0995_110918.tsv\",\n",
    "               sep = \"\\t\", header=None)\n",
    "\n",
    "j_top = pd.read_csv(base + \"/data/results/2Rj/comp/predictive_SNPs_train_set_08_110918.tsv\",\n",
    "               sep = \"\\t\", header=None)\n",
    "\n",
    "b_top = pd.read_csv(base + \"/data/results/2Rb/comp/predictive_SNPs_train_set_08_110918.tsv\",\n",
    "               sep = \"\\t\", header=None)\n",
    "\n",
    "u_top = pd.read_csv(base + \"/data/results/2Ru/comp/predictive_SNPs_train_set_08_110918.tsv\",\n",
    "               sep = \"\\t\", header=None)\n",
    "\n",
    "d_top = pd.read_csv(base + \"/data/results/2Rd/comp/predictive_SNPs_train_set_08_052619.tsv\",\n",
    "               sep = \"\\t\", header=None)\n",
    "\n",
    "col_top = pd.read_csv(\n",
    "    base + \"/data/results/2Rc/comp/col_predictive_SNPs_train_set_08_031919.tsv\", sep=\"\\t\", \n",
    "    header=None)\n",
    "\n",
    "gam_top = pd.read_csv(\n",
    "    base + \"/data/results/2Rc/comp/gam_ss_predictive_SNPs_train_set_08_031919.tsv\",\n",
    "            sep=\"\\t\", header=None)"
   ]
  },
  {
   "cell_type": "markdown",
   "metadata": {},
   "source": [
    "##### read in and prepare low-coverage data from Main et al."
   ]
  },
  {
   "cell_type": "code",
   "execution_count": 4,
   "metadata": {},
   "outputs": [],
   "source": [
    "Main_2L = allel.read_vcf(\n",
    "    '/afs/crc.nd.edu/group/BesanskyNGS/data05/comp_karyo/data/Agam_normfilt_vcfs.vcf.gz',\n",
    "                   fields = ['*'], region = \"2L\", types={'calldata/GQ': 'f4'})\n",
    "\n",
    "Main_2R = allel.read_vcf(\n",
    "    '/afs/crc.nd.edu/group/BesanskyNGS/data05/comp_karyo/data/Agam_normfilt_vcfs.vcf.gz',\n",
    "                   fields = ['*'], region = \"2R\", types={'calldata/GQ': 'f4'})"
   ]
  },
  {
   "cell_type": "code",
   "execution_count": 5,
   "metadata": {},
   "outputs": [],
   "source": [
    "Main_good_names = [\"02SEL85\",\"04SEL02\",\"04SEL14\",\"04SEL021\",\"04SEL18\",\"04SEL84\",\"04SEL91\",\n",
    "                   \"010sel134\",\"O10SEL160\",\n",
    "               \"2012SEL002\",\"2012SEL003\",\"2012SEL006\",\"2012SEL009\",\"2012sel012\",\n",
    "                   \"2012SEL013\",\"2012sel029\",\"2012sel063\"]\n",
    "\n",
    "Main_sample_bool = [sample in Main_good_names for sample in Main_2R[\"samples\"]]"
   ]
  },
  {
   "cell_type": "code",
   "execution_count": 6,
   "metadata": {},
   "outputs": [],
   "source": [
    "Main_a = [2,2,1,1,2,2,2,2,2,1,2,2,2,2,2,2,2]\n",
    "Main_b = [2,2,2,1,2,0,0,0,1,2,0,2,2,0,2,1,1]\n",
    "Main_c = [2,2,0,1,2,0,0,0,1,0,0,2,2,0,2,1,1]\n",
    "Main_d = [0,0,0,0,0,0,0,0,0,0,0,0,0,0,0,0,0]\n",
    "Main_j = [0,0,0,0,0,0,0,0,0,0,0,0,0,0,0,0,0]\n",
    "Main_u = [0,0,0,0,0,0,2,2,1,0,0,0,0,1,0,0,0]"
   ]
  },
  {
   "cell_type": "code",
   "execution_count": 7,
   "metadata": {},
   "outputs": [],
   "source": [
    "Main_md = pd.DataFrame({\"sample_ID\" : pd.Series(Main_2R[\"samples\"][Main_sample_bool]),\n",
    "                       \"2La\" : pd.Series(Main_a),\n",
    "                       \"2Rb\" : pd.Series(Main_b),\n",
    "                       \"2Rc\" : pd.Series(Main_c),\n",
    "                       \"2Rd\" : pd.Series(Main_d),\n",
    "                       \"2Rj\" : pd.Series(Main_j),\n",
    "                       \"2Ru\" : pd.Series(Main_u)})\n",
    "\n",
    "Main_md = Main_md[[\"sample_ID\",\"2La\",\"2Rb\",\"2Rc\",\"2Rd\",\"2Rj\",\"2Ru\"]]"
   ]
  },
  {
   "cell_type": "code",
   "execution_count": 8,
   "metadata": {},
   "outputs": [
    {
     "name": "stderr",
     "output_type": "stream",
     "text": [
      "/afs/crc.nd.edu/user/r/rlove1/.local/lib/python3.7/site-packages/ipykernel_launcher.py:5: RuntimeWarning: invalid value encountered in less\n",
      "  \"\"\"\n"
     ]
    }
   ],
   "source": [
    "Main_2R_gt = allel.GenotypeArray(Main_2R[\"calldata/GT\"]).subset(sel1 = Main_sample_bool)\n",
    "\n",
    "Main_2R_gq = Main_2R[\"calldata/GQ\"][:,Main_sample_bool]\n",
    "\n",
    "Main_2R_gt.mask = Main_2R_gq < 20"
   ]
  },
  {
   "cell_type": "code",
   "execution_count": 9,
   "metadata": {},
   "outputs": [
    {
     "name": "stderr",
     "output_type": "stream",
     "text": [
      "/afs/crc.nd.edu/user/r/rlove1/.local/lib/python3.7/site-packages/ipykernel_launcher.py:5: RuntimeWarning: invalid value encountered in less\n",
      "  \"\"\"\n"
     ]
    }
   ],
   "source": [
    "Main_2L_gt = allel.GenotypeArray(Main_2L[\"calldata/GT\"]).subset(sel1 = Main_sample_bool)\n",
    "\n",
    "Main_2L_gq = Main_2L[\"calldata/GQ\"][:,Main_sample_bool]\n",
    "\n",
    "Main_2L_gt.mask = Main_2L_gq < 20"
   ]
  },
  {
   "cell_type": "code",
   "execution_count": 10,
   "metadata": {},
   "outputs": [],
   "source": [
    "Inversion = namedtuple('Inversion',['SNPs','metadata','genotypes','inv_title'])"
   ]
  },
  {
   "cell_type": "code",
   "execution_count": 11,
   "metadata": {},
   "outputs": [],
   "source": [
    "Main_inv_dict = {\"2La\" : Inversion(SNPs = a_top.values, metadata = Main_md, \n",
    "                                   genotypes = Main_2L_gt, inv_title = \"2La\"),\n",
    "                 \"2Rj\" : Inversion(SNPs = j_top.values, metadata = Main_md, \n",
    "                             genotypes = Main_2R_gt, inv_title = \"2Rj\"),\n",
    "           \"2Rb\" : Inversion(SNPs = b_top.values, metadata = Main_md, \n",
    "                             genotypes = Main_2R_gt, inv_title = \"2Rb\"),\n",
    "        \"2Rc_col\" : Inversion(SNPs = col_top.values, metadata = Main_md, \n",
    "                               genotypes = Main_2R_gt, inv_title = \"2Rc\"),\n",
    "           \"2Rc_gam\" : Inversion(SNPs = gam_top.values, metadata = Main_md, \n",
    "                                  genotypes = Main_2R_gt, inv_title = \"2Rc\"),\n",
    "           \"2Rd\" : Inversion(SNPs = d_top.values, metadata = Main_md, \n",
    "                             genotypes = Main_2R_gt, inv_title = \"2Rd\"),\n",
    "           \"2Ru\" : Inversion(SNPs = u_top.values, metadata = Main_md, \n",
    "                             genotypes = Main_2R_gt, inv_title = \"2Ru\")}"
   ]
  },
  {
   "cell_type": "markdown",
   "metadata": {},
   "source": [
    "##### repeat with the Love et al. specimens"
   ]
  },
  {
   "cell_type": "markdown",
   "metadata": {},
   "source": [
    "##### assemble the metadata"
   ]
  },
  {
   "cell_type": "code",
   "execution_count": 12,
   "metadata": {},
   "outputs": [
    {
     "data": {
      "text/plain": [
       "['KL0218',\n",
       " 'KL0220',\n",
       " 'KL0231',\n",
       " 'KL0333',\n",
       " 'KL0341',\n",
       " 'KL0370',\n",
       " 'KL0671',\n",
       " 'KL0899']"
      ]
     },
     "execution_count": 12,
     "metadata": {},
     "output_type": "execute_result"
    }
   ],
   "source": [
    "Love_good_names = ['KL0218','KL0220','KL0231','KL0333','KL0341','KL0370','KL0671','KL0899']\n",
    "\n",
    "Love_good_names"
   ]
  },
  {
   "cell_type": "code",
   "execution_count": 13,
   "metadata": {},
   "outputs": [],
   "source": [
    "Love_a = [2,2,2,np.nan,np.nan,np.nan,np.nan,np.nan]\n",
    "Love_b = [2,0,0,0,0,2,2,0]\n",
    "Love_c = [2,2,2,2,2,2,2,2]\n",
    "Love_d = [0,0,0,0,0,0,0,0]\n",
    "Love_j = [2,2,2,2,2,2,2,2]\n",
    "Love_u = [2,2,2,2,2,2,2,2]\n",
    "\n",
    "Love_md = pd.DataFrame({\"sample_ID\" : pd.Series(Love_good_names),\n",
    "                       \"2La\" : pd.Series(Love_a),\n",
    "                       \"2Rb\" : pd.Series(Love_b),\n",
    "                       \"2Rc\" : pd.Series(Love_c),\n",
    "                       \"2Rd\" : pd.Series(Love_d),\n",
    "                       \"2Rj\" : pd.Series(Love_j),\n",
    "                       \"2Ru\" : pd.Series(Love_u)})\n",
    "\n",
    "Love_md = Love_md[[\"sample_ID\",\"2La\",\"2Rb\",\"2Rc\",\"2Rd\",\"2Rj\",\"2Ru\"]]"
   ]
  },
  {
   "cell_type": "markdown",
   "metadata": {},
   "source": [
    "##### read in the data"
   ]
  },
  {
   "cell_type": "code",
   "execution_count": 14,
   "metadata": {},
   "outputs": [
    {
     "name": "stderr",
     "output_type": "stream",
     "text": [
      "/afs/crc.nd.edu/user/r/rlove1/.local/lib/python3.7/site-packages/allel/io/vcf_read.py:1057: UserWarning: error occurred attempting tabix ([Errno 12] Cannot allocate memory); falling back to scanning to region\n",
      "  'scanning to region' % e)\n",
      "/afs/crc.nd.edu/user/r/rlove1/.local/lib/python3.7/site-packages/allel/io/vcf_read.py:1057: UserWarning: error occurred attempting tabix ([Errno 12] Cannot allocate memory); falling back to scanning to region\n",
      "  'scanning to region' % e)\n"
     ]
    }
   ],
   "source": [
    "Love_2R = allel.read_vcf(\n",
    "    '/afs/crc.nd.edu/group/BesanskyNGS/data02/16G_bamako/all.Bamakoset.2.recode.vcf.gz',\n",
    "                   fields = ['*'], region = \"2R\", types={'calldata/GQ': 'f4'})\n",
    "\n",
    "Love_2L = allel.read_vcf(\n",
    "    '/afs/crc.nd.edu/group/BesanskyNGS/data02/16G_bamako/all.Bamakoset.2.recode.vcf.gz',\n",
    "                   fields = ['*'], region = \"2L\", types={'calldata/GQ': 'f4'})"
   ]
  },
  {
   "cell_type": "code",
   "execution_count": 15,
   "metadata": {},
   "outputs": [],
   "source": [
    "Love_sample_bool = [sample in Love_good_names for sample in Love_2R[\"samples\"]]"
   ]
  },
  {
   "cell_type": "code",
   "execution_count": 16,
   "metadata": {},
   "outputs": [
    {
     "name": "stderr",
     "output_type": "stream",
     "text": [
      "/afs/crc.nd.edu/user/r/rlove1/.local/lib/python3.7/site-packages/ipykernel_launcher.py:4: RuntimeWarning: invalid value encountered in less\n",
      "  after removing the cwd from sys.path.\n"
     ]
    }
   ],
   "source": [
    "Love_2R_gt = allel.GenotypeArray(Love_2R[\"calldata/GT\"]).subset(sel1 = Love_sample_bool)\n",
    "Love_2R_gq = Love_2R[\"calldata/GQ\"][:,Love_sample_bool]\n",
    "\n",
    "Love_2R_gt.mask = Love_2R_gq < 20"
   ]
  },
  {
   "cell_type": "code",
   "execution_count": 17,
   "metadata": {},
   "outputs": [
    {
     "name": "stderr",
     "output_type": "stream",
     "text": [
      "/afs/crc.nd.edu/user/r/rlove1/.local/lib/python3.7/site-packages/ipykernel_launcher.py:5: RuntimeWarning: invalid value encountered in less\n",
      "  \"\"\"\n"
     ]
    }
   ],
   "source": [
    "Love_2L_gt = allel.GenotypeArray(Love_2L[\"calldata/GT\"]).subset(sel1 = Love_sample_bool)\n",
    "\n",
    "Love_2L_gq = Love_2L[\"calldata/GQ\"][:,Love_sample_bool]\n",
    "\n",
    "Love_2L_gt.mask = Love_2L_gq < 20"
   ]
  },
  {
   "cell_type": "markdown",
   "metadata": {},
   "source": [
    "##### make the objects to run the process"
   ]
  },
  {
   "cell_type": "code",
   "execution_count": 18,
   "metadata": {},
   "outputs": [],
   "source": [
    "Love_inv_dict = {\"2La\" : Inversion(SNPs = a_top.values, metadata = Love_md, \n",
    "                                   genotypes = Love_2L_gt, inv_title = \"2La\"),\n",
    "           \"2Rb\" : Inversion(SNPs = b_top.values, metadata = Love_md, \n",
    "                             genotypes = Love_2R_gt, inv_title = \"2Rb\"),\n",
    "            \"2Rc_col\" : Inversion(SNPs = col_top.values, metadata = Love_md, \n",
    "                                   genotypes = Love_2R_gt, inv_title = \"2Rc\"),\n",
    "           \"2Rc_gam\" : Inversion(SNPs = gam_top.values, metadata = Love_md, \n",
    "                                  genotypes = Love_2R_gt, inv_title = \"2Rc\"),\n",
    " \"2Rd\" : Inversion(SNPs = d_top.values, metadata = Love_md, \n",
    "                             genotypes = Love_2R_gt, inv_title = \"2Rd\"),\n",
    "           \"2Rj\" : Inversion(SNPs = j_top.values, metadata = Love_md, \n",
    "                             genotypes = Love_2R_gt, inv_title = \"2Rj\"),\n",
    "           \"2Ru\" : Inversion(SNPs = u_top.values, metadata = Love_md, \n",
    "                             genotypes = Love_2R_gt, inv_title = \"2Ru\")}"
   ]
  },
  {
   "cell_type": "code",
   "execution_count": 19,
   "metadata": {},
   "outputs": [
    {
     "data": {
      "text/html": [
       "<div>\n",
       "<style scoped>\n",
       "    .dataframe tbody tr th:only-of-type {\n",
       "        vertical-align: middle;\n",
       "    }\n",
       "\n",
       "    .dataframe tbody tr th {\n",
       "        vertical-align: top;\n",
       "    }\n",
       "\n",
       "    .dataframe thead th {\n",
       "        text-align: right;\n",
       "    }\n",
       "</style>\n",
       "<table border=\"1\" class=\"dataframe\">\n",
       "  <thead>\n",
       "    <tr style=\"text-align: right;\">\n",
       "      <th></th>\n",
       "      <th>sample_ID</th>\n",
       "      <th>2La</th>\n",
       "      <th>2Rb</th>\n",
       "      <th>2Rc</th>\n",
       "      <th>2Rd</th>\n",
       "      <th>2Rj</th>\n",
       "      <th>2Ru</th>\n",
       "    </tr>\n",
       "  </thead>\n",
       "  <tbody>\n",
       "    <tr>\n",
       "      <th>0</th>\n",
       "      <td>KL0218</td>\n",
       "      <td>2.0</td>\n",
       "      <td>2</td>\n",
       "      <td>2</td>\n",
       "      <td>0</td>\n",
       "      <td>2</td>\n",
       "      <td>2</td>\n",
       "    </tr>\n",
       "    <tr>\n",
       "      <th>1</th>\n",
       "      <td>KL0220</td>\n",
       "      <td>2.0</td>\n",
       "      <td>0</td>\n",
       "      <td>2</td>\n",
       "      <td>0</td>\n",
       "      <td>2</td>\n",
       "      <td>2</td>\n",
       "    </tr>\n",
       "    <tr>\n",
       "      <th>2</th>\n",
       "      <td>KL0231</td>\n",
       "      <td>2.0</td>\n",
       "      <td>0</td>\n",
       "      <td>2</td>\n",
       "      <td>0</td>\n",
       "      <td>2</td>\n",
       "      <td>2</td>\n",
       "    </tr>\n",
       "    <tr>\n",
       "      <th>3</th>\n",
       "      <td>KL0333</td>\n",
       "      <td>NaN</td>\n",
       "      <td>0</td>\n",
       "      <td>2</td>\n",
       "      <td>0</td>\n",
       "      <td>2</td>\n",
       "      <td>2</td>\n",
       "    </tr>\n",
       "    <tr>\n",
       "      <th>4</th>\n",
       "      <td>KL0341</td>\n",
       "      <td>NaN</td>\n",
       "      <td>0</td>\n",
       "      <td>2</td>\n",
       "      <td>0</td>\n",
       "      <td>2</td>\n",
       "      <td>2</td>\n",
       "    </tr>\n",
       "    <tr>\n",
       "      <th>5</th>\n",
       "      <td>KL0370</td>\n",
       "      <td>NaN</td>\n",
       "      <td>2</td>\n",
       "      <td>2</td>\n",
       "      <td>0</td>\n",
       "      <td>2</td>\n",
       "      <td>2</td>\n",
       "    </tr>\n",
       "    <tr>\n",
       "      <th>6</th>\n",
       "      <td>KL0671</td>\n",
       "      <td>NaN</td>\n",
       "      <td>2</td>\n",
       "      <td>2</td>\n",
       "      <td>0</td>\n",
       "      <td>2</td>\n",
       "      <td>2</td>\n",
       "    </tr>\n",
       "    <tr>\n",
       "      <th>7</th>\n",
       "      <td>KL0899</td>\n",
       "      <td>NaN</td>\n",
       "      <td>0</td>\n",
       "      <td>2</td>\n",
       "      <td>0</td>\n",
       "      <td>2</td>\n",
       "      <td>2</td>\n",
       "    </tr>\n",
       "  </tbody>\n",
       "</table>\n",
       "</div>"
      ],
      "text/plain": [
       "  sample_ID  2La  2Rb  2Rc  2Rd  2Rj  2Ru\n",
       "0    KL0218  2.0    2    2    0    2    2\n",
       "1    KL0220  2.0    0    2    0    2    2\n",
       "2    KL0231  2.0    0    2    0    2    2\n",
       "3    KL0333  NaN    0    2    0    2    2\n",
       "4    KL0341  NaN    0    2    0    2    2\n",
       "5    KL0370  NaN    2    2    0    2    2\n",
       "6    KL0671  NaN    2    2    0    2    2\n",
       "7    KL0899  NaN    0    2    0    2    2"
      ]
     },
     "execution_count": 19,
     "metadata": {},
     "output_type": "execute_result"
    }
   ],
   "source": [
    "Love_md"
   ]
  },
  {
   "cell_type": "code",
   "execution_count": 20,
   "metadata": {},
   "outputs": [],
   "source": [
    "Love_average_dict = {inversion : None for inversion in Love_inv_dict.keys()}\n",
    "Main_average_dict = {inversion : None for inversion in Main_inv_dict.keys()}"
   ]
  },
  {
   "cell_type": "code",
   "execution_count": 21,
   "metadata": {},
   "outputs": [
    {
     "name": "stdout",
     "output_type": "stream",
     "text": [
      "2La # targets:  209  # found:  12\n",
      "2La  # mismatches:  5 \n",
      "\n",
      "2Rb # targets:  349  # found:  46\n",
      "2Rb  # mismatches:  0 \n",
      "\n",
      "2Rc_col # targets:  57  # found:  11\n",
      "2Rc_col  # mismatches:  8 \n",
      "\n",
      "2Rc_gam # targets:  49  # found:  3\n",
      "2Rc_gam  # mismatches:  8 \n",
      "\n",
      "2Rd # targets:  147  # found:  29\n",
      "2Rd  # mismatches:  0 \n",
      "\n",
      "2Rj # targets:  99  # found:  13\n",
      "2Rj  # mismatches:  0 \n",
      "\n",
      "2Ru # targets:  177  # found:  19\n",
      "2Ru  # mismatches:  0 \n",
      "\n"
     ]
    }
   ],
   "source": [
    "for inversion in Love_inv_dict.keys():\n",
    "    \n",
    "    ##set up objects\n",
    "    SNPs = Love_inv_dict[inversion].SNPs\n",
    "    md = Love_inv_dict[inversion].metadata\n",
    "    gt = Love_inv_dict[inversion].genotypes\n",
    "    col_name = Love_inv_dict[inversion].inv_title\n",
    "    new_col_name = inversion + \"_assigned\"\n",
    "    mean_name = inversion + \"_means\"\n",
    "    \n",
    "    if inversion == \"2La\":\n",
    "        \n",
    "        pos = Love_2L[\"variants/POS\"]\n",
    "        \n",
    "    else:\n",
    "        \n",
    "        pos = Love_2R[\"variants/POS\"]\n",
    "    \n",
    "    ##identify sites found in the data\n",
    "    site_indices = []\n",
    "    \n",
    "    for site in SNPs:\n",
    "    \n",
    "        where = np.where(pos == site)\n",
    "        \n",
    "        if len(where[0]) > 0:\n",
    "                \n",
    "            site_indices.append(where[0][0])\n",
    "            \n",
    "    print(inversion, \"# targets: \", str(len(SNPs)), \" # found: \", str(len(site_indices)))\n",
    "    \n",
    "    ##identify biallelic sites\n",
    "    \n",
    "    bi_bool = gt.subset(sel0 = site_indices).count_alleles().max_allele() <= 1\n",
    "        \n",
    "    alts = gt.subset(sel0 = site_indices).subset(sel0 = bi_bool).to_n_alt()\n",
    "        \n",
    "    is_called = gt.subset(sel0 = site_indices).subset(sel0 = bi_bool).is_called()\n",
    "    \n",
    "    av_gts = np.mean(np.ma.MaskedArray(\n",
    "            alts, mask = ~is_called), axis=0).data\n",
    "            \n",
    "    total_sites = np.sum(is_called, axis=0)\n",
    "        \n",
    "    karyos = []\n",
    "    \n",
    "    for alt in av_gts:\n",
    "        \n",
    "        if alt <= (2/3):\n",
    "            \n",
    "            karyos.append(0)\n",
    "            \n",
    "        elif alt > (2/3) and alt <= (4/3):\n",
    "            \n",
    "            karyos.append(1)\n",
    "            \n",
    "        else:\n",
    "            \n",
    "            karyos.append(2)\n",
    "            \n",
    "    md[new_col_name] = pd.Series(karyos)\n",
    "    md[mean_name] = pd.Series(av_gts)\n",
    "    \n",
    "    mismatches = np.sum(md[new_col_name] != md[col_name])\n",
    "    \n",
    "    Love_average_dict[inversion] = (len(site_indices), av_gts)\n",
    "    \n",
    "    print(inversion, \" # mismatches: \", mismatches,\"\\n\")\n",
    "    #print(av_gts)\n",
    "    #print(total_sites,\"\\n\")"
   ]
  },
  {
   "cell_type": "code",
   "execution_count": 22,
   "metadata": {},
   "outputs": [
    {
     "name": "stdout",
     "output_type": "stream",
     "text": [
      "2La # targets:  209  # found:  200\n",
      "2La  # mismatches:  2 \n",
      "\n",
      "2Rj # targets:  99  # found:  96\n",
      "2Rj  # mismatches:  0 \n",
      "\n",
      "2Rb # targets:  349  # found:  339\n",
      "2Rb  # mismatches:  3 \n",
      "\n",
      "2Rc_col # targets:  57  # found:  56\n",
      "2Rc_col  # mismatches:  3 \n",
      "\n",
      "2Rc_gam # targets:  49  # found:  49\n",
      "2Rc_gam  # mismatches:  12 \n",
      "\n",
      "2Rd # targets:  147  # found:  96\n",
      "2Rd  # mismatches:  0 \n",
      "\n",
      "2Ru # targets:  177  # found:  174\n",
      "2Ru  # mismatches:  4 \n",
      "\n"
     ]
    }
   ],
   "source": [
    "for inversion in Main_inv_dict.keys():\n",
    "    \n",
    "    ##set up objects\n",
    "    SNPs = Main_inv_dict[inversion].SNPs\n",
    "    md = Main_inv_dict[inversion].metadata\n",
    "    gt = Main_inv_dict[inversion].genotypes\n",
    "    col_name = Main_inv_dict[inversion].inv_title\n",
    "    new_col_name = inversion + \"_assigned\"\n",
    "    mean_name = inversion + \"_means\"\n",
    "    \n",
    "    if inversion == \"2La\":\n",
    "        \n",
    "        pos = Main_2L[\"variants/POS\"]\n",
    "        \n",
    "    else:\n",
    "        \n",
    "        pos = Main_2R[\"variants/POS\"]\n",
    "    \n",
    "    ##identify sites found in the data\n",
    "    site_indices = []\n",
    "    \n",
    "    for site in SNPs:\n",
    "    \n",
    "        where = np.where(pos == site)\n",
    "        \n",
    "        if len(where[0]) > 0:\n",
    "                \n",
    "            site_indices.append(where[0][0])\n",
    "            \n",
    "    print(inversion, \"# targets: \", str(len(SNPs)), \" # found: \", str(len(site_indices)))\n",
    "    \n",
    "    ##identify biallelic sites\n",
    "    \n",
    "    bi_bool = gt.subset(sel0 = site_indices).count_alleles().max_allele() <= 1\n",
    "        \n",
    "    alts = gt.subset(sel0 = site_indices).subset(sel0 = bi_bool).to_n_alt()\n",
    "        \n",
    "    is_called = gt.subset(sel0 = site_indices).subset(sel0 = bi_bool).is_called()\n",
    "    \n",
    "    av_gts = np.mean(np.ma.MaskedArray(\n",
    "            alts, mask = ~is_called), axis=0).data\n",
    "            \n",
    "    total_sites = np.sum(is_called, axis=0)\n",
    "        \n",
    "    karyos = []\n",
    "    \n",
    "    for alt in av_gts:\n",
    "        \n",
    "        if alt <= (2/3):\n",
    "            \n",
    "            karyos.append(0)\n",
    "            \n",
    "        elif alt > (2/3) and alt <= (4/3):\n",
    "            \n",
    "            karyos.append(1)\n",
    "            \n",
    "        else:\n",
    "            \n",
    "            karyos.append(2)\n",
    "            \n",
    "    md[new_col_name] = pd.Series(karyos)\n",
    "    md[mean_name] = pd.Series(av_gts)\n",
    "    \n",
    "    mismatches = np.sum(md[new_col_name] != md[col_name])\n",
    "    \n",
    "    Main_average_dict[inversion] = (len(site_indices), av_gts)\n",
    "    \n",
    "    print(inversion, \" # mismatches: \", mismatches,\"\\n\")\n",
    "    #print(av_gts)\n",
    "    #print(total_sites,\"\\n\")"
   ]
  },
  {
   "cell_type": "code",
   "execution_count": 23,
   "metadata": {},
   "outputs": [],
   "source": [
    "inversion_list = [\"2La\",\"2Rj\",\"2Rb\",\"2Rc_col\",\"2Rc_gam\",\"2Rd\",\"2Ru\"]\n",
    "inversion_title_list = [\"2La\",\"2Rj\",\"2Rb\",\"2Rc coluzzii\",\"2Rc gambiae\",\"2Rd\",\"2Ru\"]"
   ]
  },
  {
   "cell_type": "markdown",
   "metadata": {},
   "source": [
    "##### drop 2Rd, 2Rj, 2Rc_gam from Main, and 2Rc_col from Love: these are inappropriate cross-taxon applications\n",
    "\n",
    "##### 2Rc_gam from Main and 2Rc_col from Love are their own figure"
   ]
  },
  {
   "cell_type": "code",
   "execution_count": 24,
   "metadata": {},
   "outputs": [
    {
     "data": {
      "image/png": "[encoded data removed]",
      "text/plain": [
       "<Figure size 1440x216 with 2 Axes>"
      ]
     },
     "metadata": {
      "needs_background": "light"
     },
     "output_type": "display_data"
    }
   ],
   "source": [
    "outString2 = ingenos.make_date_stamp(base + \"/data/results/comp_aim1/fig_s2\")\n",
    "\n",
    "fig, axes = plt.subplots(nrows=1, ncols=2, sharex=True, figsize = (20, 3))\n",
    "\n",
    "inv_1 = Main_average_dict[\"2Rc_gam\"]\n",
    "inv_2 = Love_average_dict[\"2Rc_col\"]\n",
    "\n",
    "axes[0].hist(inv_1[1], range=(0,2), bins=20)\n",
    "axes[0].locator_params(axis=\"y\", integer=True)\n",
    "axes[0].set_xlabel(\"Average genotype\", fontsize=15)\n",
    "axes[0].set_ylabel(\"# Specimens\", fontsize=15)\n",
    "axes[0].tick_params(labelsize=15)\n",
    "axes[0].set_title(\"Main et al. 2Rc_gam: {num} tag SNPs\".format(num = inv_1[0]),\n",
    "                 fontsize=20)\n",
    "\n",
    "axes[1].hist(inv_2[1], range=(0,2), bins=20)\n",
    "axes[1].locator_params(axis=\"y\", integer=True)\n",
    "axes[1].set_xlabel(\"Average genotype\", fontsize=15)\n",
    "axes[1].tick_params(labelsize=15)\n",
    "axes[1].set_title(\"Love et al. 2Rc_col: {num} tag SNPs\".format(num = inv_2[0]),\n",
    "                 fontsize=20);\n",
    "\n",
    "plt.savefig(outString2);"
   ]
  },
  {
   "cell_type": "markdown",
   "metadata": {},
   "source": [
    "##### run this second, since it overwrites data"
   ]
  },
  {
   "cell_type": "code",
   "execution_count": 25,
   "metadata": {},
   "outputs": [],
   "source": [
    "Love_average_dict[\"2Rc\"] = Love_average_dict.pop(\"2Rc_gam\")"
   ]
  },
  {
   "cell_type": "code",
   "execution_count": 26,
   "metadata": {},
   "outputs": [],
   "source": [
    "Main_average_dict[\"2Rc\"] = Main_average_dict.pop(\"2Rc_col\")"
   ]
  },
  {
   "cell_type": "code",
   "execution_count": 27,
   "metadata": {},
   "outputs": [],
   "source": [
    "inversion_list = [\"2La\",\"2Rj\",\"2Rb\",\"2Rc\",\"2Rd\",\"2Ru\"]"
   ]
  },
  {
   "cell_type": "code",
   "execution_count": 28,
   "metadata": {},
   "outputs": [
    {
     "data": {
      "image/png": "[encoded data removed]",
      "text/plain": [
       "<Figure size 1440x1296 with 12 Axes>"
      ]
     },
     "metadata": {
      "needs_background": "light"
     },
     "output_type": "display_data"
    }
   ],
   "source": [
    "outString5 = ingenos.make_date_stamp(\n",
    "    base + \"/data/results/comp_aim1/fig_5\")\n",
    "\n",
    "fig, axes = plt.subplots(nrows=6, ncols=2, sharex=True, figsize = (20, 18))\n",
    "\n",
    "for i, ax in enumerate(axes.T.flatten()):\n",
    "    \n",
    "    if i <= 5:\n",
    "        \n",
    "        av_dict = Main_average_dict\n",
    "        set_name = \"Main\"\n",
    "        inversion = inversion_list[i]\n",
    "        \n",
    "    else:\n",
    "        \n",
    "        av_dict = Love_average_dict\n",
    "        set_name = \"Love\"\n",
    "        inversion = inversion_list[i-6]\n",
    "        \n",
    "    if set_name == \"Main\" and (inversion == \"2Rd\" or inversion == \"2Rj\"):\n",
    "        \n",
    "        ax.axis('off')\n",
    "        \n",
    "    else:\n",
    "\n",
    "        num_sites = av_dict[inversion][0]\n",
    "\n",
    "        alts = av_dict[inversion][1]\n",
    "\n",
    "        ax.hist(alts, range=(0,2), bins=20)\n",
    "        ax.locator_params(axis=\"y\", integer=True)\n",
    "\n",
    "        if i == 5 or i == 11:\n",
    "            ax.set_xlabel(\"Average genotype\", fontsize=15)\n",
    "\n",
    "        ax.set_ylabel(\"# Specimens\", fontsize=15)\n",
    "        ax.tick_params(labelsize=15)\n",
    "        \n",
    "        inversion_name = inversion\n",
    "        \n",
    "        if inversion == \"2Rc\":\n",
    "            \n",
    "            if set_name == \"Main\":\n",
    "                \n",
    "                inversion_name = \"2Rc_col\"\n",
    "                \n",
    "            else:\n",
    "                \n",
    "                inversion_name = \"2Rc_gam\"\n",
    "        \n",
    "        ax.set_title(\"{inversion}: {num} tag SNPs\".format(inversion = inversion_name,\n",
    "                                                                  num = num_sites),\n",
    "                     fontsize=15)\n",
    "\n",
    "        if inversion == \"2Rc\" and set_name == \"Love\":\n",
    "\n",
    "            y_top = ax.get_ylim()[1]\n",
    "\n",
    "            ax.text(2.0, y_top - 0.2, \"*\", size=40, weight=\"bold\", va = \"top\")\n",
    "\n",
    "for ax, col in zip(axes.T[:,0], [\"Main et al.\", \"Love et al.\"]):\n",
    "    ax.annotate(col, (0.5, 1.15), xytext=(0, 10), ha='center', va='bottom',\n",
    "                size=20, xycoords='axes fraction', textcoords='offset points')\n",
    "    \n",
    "plt.savefig(outString5);"
   ]
  },
  {
   "cell_type": "code",
   "execution_count": null,
   "metadata": {},
   "outputs": [],
   "source": []
  },
  {
   "cell_type": "code",
   "execution_count": null,
   "metadata": {},
   "outputs": [],
   "source": []
  }
 ],
 "metadata": {
  "kernelspec": {
   "display_name": "Python 3",
   "language": "python",
   "name": "python3"
  },
  "language_info": {
   "codemirror_mode": {
    "name": "ipython",
    "version": 3
   },
   "file_extension": ".py",
   "mimetype": "text/x-python",
   "name": "python",
   "nbconvert_exporter": "python",
   "pygments_lexer": "ipython3",
   "version": "3.7.3"
  }
 },
 "nbformat": 4,
 "nbformat_minor": 2
}
