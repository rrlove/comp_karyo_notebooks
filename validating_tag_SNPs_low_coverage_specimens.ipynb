{
 "cells": [
  {
   "cell_type": "code",
   "execution_count": 1,
   "metadata": {},
   "outputs": [],
   "source": [
    "import allel\n",
    "from collections import namedtuple\n",
    "import datetime\n",
    "import h5py\n",
    "import ingenos\n",
    "import itertools\n",
    "import matplotlib.lines as mlines\n",
    "import matplotlib.patches as mpatches\n",
    "import matplotlib.pyplot as plt\n",
    "from matplotlib import collections as mc\n",
    "import numpy as np\n",
    "import pandas as pd\n",
    "import re\n",
    "import seaborn as sns\n",
    "from sklearn import model_selection\n",
    "%matplotlib inline"
   ]
  },
  {
   "cell_type": "markdown",
   "metadata": {},
   "source": [
    "##### set base directory"
   ]
  },
  {
   "cell_type": "code",
   "execution_count": 2,
   "metadata": {},
   "outputs": [],
   "source": [
    "base = \"/afs/crc.nd.edu/group/BesanskyNGS/data05/comp_karyo\""
   ]
  },
  {
   "cell_type": "markdown",
   "metadata": {},
   "source": [
    "##### read in the top SNPs."
   ]
  },
  {
   "cell_type": "code",
   "execution_count": 3,
   "metadata": {},
   "outputs": [],
   "source": [
    "a_top = pd.read_csv(base + \"/data/results/2La/comp/predictive_SNPs_train_set_0995_110918.tsv\",\n",
    "               sep = \"\\t\", header=None)\n",
    "\n",
    "j_top = pd.read_csv(base + \"/data/results/2Rj/comp/predictive_SNPs_train_set_08_110918.tsv\",\n",
    "               sep = \"\\t\", header=None)\n",
    "\n",
    "b_top = pd.read_csv(base + \"/data/results/2Rb/comp/predictive_SNPs_train_set_08_110918.tsv\",\n",
    "               sep = \"\\t\", header=None)\n",
    "\n",
    "c_col_top = pd.read_csv(base + \"/data/results/2Rc/comp/col_predictive_SNPs_train_set_08_031919.tsv\", \n",
    "                      sep=\"\\t\", header=None)\n",
    "\n",
    "c_gam_top = pd.read_csv(base + \"/data/results/2Rc/comp/gam_ss_predictive_SNPs_train_set_08_031919.tsv\", \n",
    "                      sep=\"\\t\", header=None)\n",
    "\n",
    "u_top = pd.read_csv(base + \"/data/results/2Ru/comp/predictive_SNPs_train_set_08_110918.tsv\",\n",
    "               sep = \"\\t\", header=None)\n",
    "\n",
    "d_top = pd.read_csv(base + \"/data/results/2Rd/comp/predictive_SNPs_train_set_08_052619.tsv\",\n",
    "               sep = \"\\t\", header=None)"
   ]
  },
  {
   "cell_type": "markdown",
   "metadata": {},
   "source": [
    "##### read in and prepare data from Main et al."
   ]
  },
  {
   "cell_type": "markdown",
   "metadata": {},
   "source": [
    "##### karyotypes taken from Main et al. 2015 supplemental file Molecular Ecology 2015 Main.xlsx, tab \"Fig1_genotype_data\"; VCF from Dryad, DOI: https://doi.org/10.5061/dryad.f3dn2"
   ]
  },
  {
   "cell_type": "markdown",
   "metadata": {},
   "source": [
    "##### read in data, filter, and mask low-quality genotypes"
   ]
  },
  {
   "cell_type": "code",
   "execution_count": 4,
   "metadata": {},
   "outputs": [],
   "source": [
    "Main_2L = allel.read_vcf(\n",
    "    '/afs/crc.nd.edu/group/BesanskyNGS/data05/comp_karyo/data/Agam_normfilt_vcfs.vcf.gz',\n",
    "                   fields = ['*'], region = \"2L\", types={'calldata/GQ': 'f4'})\n",
    "\n",
    "Main_2R = allel.read_vcf(\n",
    "    '/afs/crc.nd.edu/group/BesanskyNGS/data05/comp_karyo/data/Agam_normfilt_vcfs.vcf.gz',\n",
    "                   fields = ['*'], region = \"2R\", types={'calldata/GQ': 'f4'})"
   ]
  },
  {
   "cell_type": "markdown",
   "metadata": {},
   "source": [
    "##### read in and prepare metadata"
   ]
  },
  {
   "cell_type": "code",
   "execution_count": 5,
   "metadata": {},
   "outputs": [],
   "source": [
    "Main_good_names = [\"02SEL85\",\"04SEL02\",\"04SEL14\",\"04SEL021\",\"04SEL18\",\"04SEL84\",\"04SEL91\",\n",
    "                   \"010sel134\",\"O10SEL160\",\n",
    "               \"2012SEL002\",\"2012SEL003\",\"2012SEL006\",\"2012SEL009\",\"2012sel012\",\n",
    "                   \"2012SEL013\",\"2012sel029\",\"2012sel063\"]\n",
    "\n",
    "Main_sample_bool = [sample in Main_good_names for sample in Main_2R[\"samples\"]]\n",
    "\n",
    "Main_a = [2,2,1,1,2,2,2,2,2,1,2,2,2,2,2,2,2]\n",
    "Main_b = [2,2,2,1,2,0,0,0,1,2,0,2,2,0,2,1,1]\n",
    "Main_c = [2,2,0,1,2,0,0,0,1,0,0,2,2,0,2,1,1]\n",
    "Main_d = [0,0,0,0,0,0,0,0,0,0,0,0,0,0,0,0,0]\n",
    "Main_j = [0,0,0,0,0,0,0,0,0,0,0,0,0,0,0,0,0]\n",
    "Main_u = [0,0,0,0,0,0,2,2,1,0,0,0,0,1,0,0,0]\n",
    "\n",
    "Main_md = pd.DataFrame({\"sample_ID\" : pd.Series(Main_2R[\"samples\"][Main_sample_bool]),\n",
    "                       \"2La\" : pd.Series(Main_a),\n",
    "                       \"2Rb\" : pd.Series(Main_b),\n",
    "                       \"2Rc\" : pd.Series(Main_c),\n",
    "                       \"2Rd\" : pd.Series(Main_d),\n",
    "                       \"2Rj\" : pd.Series(Main_j),\n",
    "                       \"2Ru\" : pd.Series(Main_u)})\n",
    "\n",
    "Main_md = Main_md[[\"sample_ID\",\"2La\",\"2Rb\",\"2Rc\",\"2Rd\",\"2Rj\",\"2Ru\"]]\n"
   ]
  },
  {
   "cell_type": "code",
   "execution_count": 6,
   "metadata": {},
   "outputs": [
    {
     "name": "stderr",
     "output_type": "stream",
     "text": [
      "/afs/crc.nd.edu/user/r/rlove1/.local/lib/python3.7/site-packages/ipykernel_launcher.py:5: RuntimeWarning: invalid value encountered in less\n",
      "  \"\"\"\n",
      "/afs/crc.nd.edu/user/r/rlove1/.local/lib/python3.7/site-packages/ipykernel_launcher.py:11: RuntimeWarning: invalid value encountered in less\n",
      "  # This is added back by InteractiveShellApp.init_path()\n"
     ]
    }
   ],
   "source": [
    "Main_2R_gt = allel.GenotypeArray(Main_2R[\"calldata/GT\"]).subset(sel1 = Main_sample_bool)\n",
    "\n",
    "Main_2R_gq = Main_2R[\"calldata/GQ\"][:,Main_sample_bool]\n",
    "\n",
    "Main_2R_gt.mask = Main_2R_gq < 20\n",
    "\n",
    "Main_2L_gt = allel.GenotypeArray(Main_2L[\"calldata/GT\"]).subset(sel1 = Main_sample_bool)\n",
    "\n",
    "Main_2L_gq = Main_2L[\"calldata/GQ\"][:,Main_sample_bool]\n",
    "\n",
    "Main_2L_gt.mask = Main_2L_gq < 20"
   ]
  },
  {
   "cell_type": "code",
   "execution_count": 7,
   "metadata": {},
   "outputs": [],
   "source": [
    "Inversion = namedtuple('Inversion',['SNPs','metadata','genotypes','inv_title'])"
   ]
  },
  {
   "cell_type": "code",
   "execution_count": 8,
   "metadata": {},
   "outputs": [
    {
     "ename": "NameError",
     "evalue": "name 'col_top' is not defined",
     "output_type": "error",
     "traceback": [
      "\u001b[0;31m---------------------------------------------------------------------------\u001b[0m",
      "\u001b[0;31mNameError\u001b[0m                                 Traceback (most recent call last)",
      "\u001b[0;32m<ipython-input-8-c8b583035337>\u001b[0m in \u001b[0;36m<module>\u001b[0;34m\u001b[0m\n\u001b[1;32m      5\u001b[0m            \"2Rb\" : Inversion(SNPs = b_top.values, metadata = Main_md, \n\u001b[1;32m      6\u001b[0m                              genotypes = Main_2R_gt, inv_title = \"2Rb\"),\n\u001b[0;32m----> 7\u001b[0;31m         \"2Rc_col\" : Inversion(SNPs = col_top.values, metadata = Main_md, \n\u001b[0m\u001b[1;32m      8\u001b[0m                                genotypes = Main_2R_gt, inv_title = \"2Rc\"),\n\u001b[1;32m      9\u001b[0m            \"2Rc_gam\" : Inversion(SNPs = gam_top.values, metadata = Main_md, \n",
      "\u001b[0;31mNameError\u001b[0m: name 'col_top' is not defined"
     ]
    }
   ],
   "source": [
    "Main_inv_dict = {\"2La\" : Inversion(SNPs = a_top.values, metadata = Main_md, \n",
    "                                   genotypes = Main_2L_gt, inv_title = \"2La\"),\n",
    "                 \"2Rj\" : Inversion(SNPs = j_top.values, metadata = Main_md, \n",
    "                             genotypes = Main_2R_gt, inv_title = \"2Rj\"),\n",
    "           \"2Rb\" : Inversion(SNPs = b_top.values, metadata = Main_md, \n",
    "                             genotypes = Main_2R_gt, inv_title = \"2Rb\"),\n",
    "        \"2Rc_col\" : Inversion(SNPs = col_top.values, metadata = Main_md, \n",
    "                               genotypes = Main_2R_gt, inv_title = \"2Rc\"),\n",
    "           \"2Rc_gam\" : Inversion(SNPs = gam_top.values, metadata = Main_md, \n",
    "                                  genotypes = Main_2R_gt, inv_title = \"2Rc\"),\n",
    "           \"2Rd\" : Inversion(SNPs = d_top.values, metadata = Main_md, \n",
    "                             genotypes = Main_2R_gt, inv_title = \"2Rd\"),\n",
    "           \"2Ru\" : Inversion(SNPs = u_top.values, metadata = Main_md, \n",
    "                             genotypes = Main_2R_gt, inv_title = \"2Ru\")}"
   ]
  },
  {
   "cell_type": "code",
   "execution_count": null,
   "metadata": {},
   "outputs": [],
   "source": [
    "for inversion in Main_inv_dict.keys():\n",
    "    \n",
    "    ##set up objects\n",
    "    SNPs = Main_inv_dict[inversion].SNPs\n",
    "    md = Main_inv_dict[inversion].metadata\n",
    "    gt = Main_inv_dict[inversion].genotypes\n",
    "    col_name = Main_inv_dict[inversion].inv_title\n",
    "    new_col_name = inversion + \"_assigned\"\n",
    "    mean_name = inversion + \"_means\"\n",
    "    sites_name = inversion + \"_sites_called\"\n",
    "    match_name = inversion + \"_sites_matching\"\n",
    "    match_proportion_name = inversion + \"_pct_sites_matching\"\n",
    "    \n",
    "    if inversion == \"2La\":\n",
    "        \n",
    "        pos = Main_2L[\"variants/POS\"]\n",
    "        \n",
    "    else:\n",
    "        \n",
    "        pos = Main_2R[\"variants/POS\"]\n",
    "    \n",
    "    ##identify sites found in the data\n",
    "    site_indices = []\n",
    "    \n",
    "    for site in SNPs:\n",
    "    \n",
    "        where = np.where(pos == site)\n",
    "        \n",
    "        if len(where[0]) > 0:\n",
    "                \n",
    "            site_indices.append(where[0][0])\n",
    "            \n",
    "    print(inversion, \"# targets: \", str(len(SNPs)), \" # found: \", str(len(site_indices)))\n",
    "    \n",
    "    ##identify biallelic sites\n",
    "    \n",
    "    bi_bool = gt.subset(sel0 = site_indices).count_alleles().max_allele() <= 1\n",
    "        \n",
    "    alts = gt.subset(sel0 = site_indices).subset(sel0 = bi_bool).to_n_alt()\n",
    "        \n",
    "    is_called = gt.subset(sel0 = site_indices).subset(sel0 = bi_bool).is_called()\n",
    "    \n",
    "    av_gts = np.mean(np.ma.MaskedArray(\n",
    "            alts, mask = ~is_called), axis=0).data\n",
    "    \n",
    "    match_dict = {0: None, 1: None, 2: None}\n",
    "    \n",
    "    for value in [0,1,2]:\n",
    "    \n",
    "        n_matches = np.sum(np.ma.MaskedArray(alts, mask = ~is_called) == value, axis=0)\n",
    "        match_dict[value] = n_matches\n",
    "    \n",
    "    total_sites = np.sum(is_called, axis=0)\n",
    "        \n",
    "    karyos = []\n",
    "    \n",
    "    for alt in av_gts:\n",
    "        \n",
    "        if alt <= (2/3):\n",
    "            \n",
    "            karyos.append(0)\n",
    "            \n",
    "        elif alt > (2/3) and alt <= (4/3):\n",
    "            \n",
    "            karyos.append(1)\n",
    "            \n",
    "        else:\n",
    "            \n",
    "            karyos.append(2)\n",
    "    \n",
    "    match_list = []\n",
    "    \n",
    "    for index, karyo in enumerate(karyos):\n",
    "        \n",
    "        match_list.append(match_dict[karyo][index])\n",
    "            \n",
    "    md[new_col_name] = pd.Series(karyos)\n",
    "    md[mean_name] = pd.Series(av_gts)\n",
    "    md[sites_name] = pd.Series(total_sites)\n",
    "    md[match_name] = pd.Series(match_list)\n",
    "    md[match_proportion_name] = md[match_name] / md[sites_name]\n",
    "    \n",
    "    mismatches = np.sum(md[new_col_name] != md[col_name])\n",
    "    \n",
    "    print(inversion, \" # mismatches: \", mismatches,\"\\n\")\n",
    "    print(av_gts)\n",
    "    print(total_sites,\"\\n\")"
   ]
  },
  {
   "cell_type": "markdown",
   "metadata": {},
   "source": [
    "##### repeat with the Love et al. specimens. data from https://doi.org/10.5061/dryad.m2821"
   ]
  },
  {
   "cell_type": "markdown",
   "metadata": {},
   "source": [
    "##### assemble the metadata. karyotypes come from previously unpublished data."
   ]
  },
  {
   "cell_type": "code",
   "execution_count": null,
   "metadata": {},
   "outputs": [],
   "source": [
    "Love_good_names = ['KL0218','KL0220','KL0231','KL0333','KL0341','KL0370','KL0671','KL0899']\n",
    "\n",
    "Love_a = [2,2,2,np.nan,np.nan,np.nan,np.nan,np.nan]\n",
    "Love_b = [2,0,0,0,0,2,2,0]\n",
    "Love_c = [2,2,2,2,2,2,2,2]\n",
    "Love_d = [0,0,0,0,0,0,0,0]\n",
    "Love_j = [2,2,2,2,2,2,2,2]\n",
    "Love_u = [2,2,2,2,2,2,2,2]\n",
    "\n",
    "Love_md = pd.DataFrame({\"sample_ID\" : pd.Series(Love_good_names),\n",
    "                       \"2La\" : pd.Series(Love_a),\n",
    "                       \"2Rb\" : pd.Series(Love_b),\n",
    "                       \"2Rc\" : pd.Series(Love_c),\n",
    "                       \"2Rd\" : pd.Series(Love_d),\n",
    "                       \"2Rj\" : pd.Series(Love_j),\n",
    "                       \"2Ru\" : pd.Series(Love_u)})\n",
    "\n",
    "Love_md = Love_md[[\"sample_ID\",\"2La\",\"2Rb\",\"2Rc\",\"2Rd\",\"2Rj\",\"2Ru\"]]"
   ]
  },
  {
   "cell_type": "markdown",
   "metadata": {},
   "source": [
    "##### read in the data, filter it, and mask low-quality genotypes"
   ]
  },
  {
   "cell_type": "code",
   "execution_count": null,
   "metadata": {},
   "outputs": [],
   "source": [
    "Love_2R = allel.read_vcf(\n",
    "    '/afs/crc.nd.edu/group/BesanskyNGS/data02/16G_bamako/all.Bamakoset.2.recode.vcf.gz',\n",
    "                   fields = ['*'], region = \"2R\", types={'calldata/GQ': 'f4'})\n",
    "\n",
    "Love_2L = allel.read_vcf(\n",
    "    '/afs/crc.nd.edu/group/BesanskyNGS/data02/16G_bamako/all.Bamakoset.2.recode.vcf.gz',\n",
    "                   fields = ['*'], region = \"2L\", types={'calldata/GQ': 'f4'})\n",
    "\n",
    "Love_sample_bool = [sample in Love_good_names for sample in Love_2R[\"samples\"]]\n",
    "\n",
    "Love_2R_gt = allel.GenotypeArray(Love_2R[\"calldata/GT\"]).subset(sel1 = Love_sample_bool)\n",
    "Love_2R_gq = Love_2R[\"calldata/GQ\"][:,Love_sample_bool]\n",
    "\n",
    "Love_2R_gt.mask = Love_2R_gq < 20\n",
    "\n",
    "Love_2L_gt = allel.GenotypeArray(Love_2L[\"calldata/GT\"]).subset(sel1 = Love_sample_bool)\n",
    "\n",
    "Love_2L_gq = Love_2L[\"calldata/GQ\"][:,Love_sample_bool]\n",
    "\n",
    "Love_2L_gt.mask = Love_2L_gq < 20"
   ]
  },
  {
   "cell_type": "code",
   "execution_count": null,
   "metadata": {},
   "outputs": [],
   "source": [
    "Love_inv_dict = {\"2La\" : Inversion(SNPs = a_top.values, metadata = Love_md, \n",
    "                                   genotypes = Love_2L_gt, inv_title = \"2La\"),\n",
    "           \"2Rb\" : Inversion(SNPs = b_top.values, metadata = Love_md, \n",
    "                             genotypes = Love_2R_gt, inv_title = \"2Rb\"),\n",
    "            \"2Rc_col\" : Inversion(SNPs = col_top.values, metadata = Love_md, \n",
    "                                   genotypes = Love_2R_gt, inv_title = \"2Rc\"),\n",
    "           \"2Rc_gam\" : Inversion(SNPs = gam_top.values, metadata = Love_md, \n",
    "                                  genotypes = Love_2R_gt, inv_title = \"2Rc\"),\n",
    " \"2Rd\" : Inversion(SNPs = d_top.values, metadata = Love_md, \n",
    "                             genotypes = Love_2R_gt, inv_title = \"2Rd\"),\n",
    "           \"2Rj\" : Inversion(SNPs = j_top.values, metadata = Love_md, \n",
    "                             genotypes = Love_2R_gt, inv_title = \"2Rj\"),\n",
    "           \"2Ru\" : Inversion(SNPs = u_top.values, metadata = Love_md, \n",
    "                             genotypes = Love_2R_gt, inv_title = \"2Ru\")}"
   ]
  },
  {
   "cell_type": "code",
   "execution_count": null,
   "metadata": {},
   "outputs": [],
   "source": [
    "for inversion in Love_inv_dict.keys():\n",
    "    \n",
    "    ##set up objects\n",
    "    SNPs = Love_inv_dict[inversion].SNPs\n",
    "    md = Love_inv_dict[inversion].metadata\n",
    "    gt = Love_inv_dict[inversion].genotypes\n",
    "    col_name = Love_inv_dict[inversion].inv_title\n",
    "    new_col_name = inversion + \"_assigned\"\n",
    "    mean_name = inversion + \"_means\"\n",
    "    sites_name = inversion + \"_sites_called\"\n",
    "    match_name = inversion + \"_sites_matching\"\n",
    "    match_proportion_name = inversion + \"_pct_sites_matching\"\n",
    "    \n",
    "    if inversion == \"2La\":\n",
    "        \n",
    "        pos = Love_2L[\"variants/POS\"]\n",
    "        \n",
    "    else:\n",
    "        \n",
    "        pos = Love_2R[\"variants/POS\"]\n",
    "    \n",
    "    ##identify sites found in the data\n",
    "    site_indices = []\n",
    "    \n",
    "    for site in SNPs:\n",
    "    \n",
    "        where = np.where(pos == site)\n",
    "        \n",
    "        if len(where[0]) > 0:\n",
    "                \n",
    "            site_indices.append(where[0][0])\n",
    "            \n",
    "    print(inversion, \"# targets: \", str(len(SNPs)), \" # found: \", str(len(site_indices)))\n",
    "    \n",
    "    ##identify biallelic sites\n",
    "    \n",
    "    bi_bool = gt.subset(sel0 = site_indices).count_alleles().max_allele() <= 1\n",
    "        \n",
    "    alts = gt.subset(sel0 = site_indices).subset(sel0 = bi_bool).to_n_alt()\n",
    "        \n",
    "    is_called = gt.subset(sel0 = site_indices).subset(sel0 = bi_bool).is_called()\n",
    "    \n",
    "    av_gts = np.mean(np.ma.MaskedArray(\n",
    "            alts, mask = ~is_called), axis=0).data\n",
    "    \n",
    "    match_dict = {0: None, 1: None, 2: None}\n",
    "    \n",
    "    for value in [0,1,2]:\n",
    "    \n",
    "        n_matches = np.sum(np.ma.MaskedArray(alts, mask = ~is_called) == value, axis=0)\n",
    "        match_dict[value] = n_matches\n",
    "    \n",
    "    total_sites = np.sum(is_called, axis=0)\n",
    "        \n",
    "    karyos = []\n",
    "    \n",
    "    for alt in av_gts:\n",
    "        \n",
    "        if alt <= (2/3):\n",
    "            \n",
    "            karyos.append(0)\n",
    "            \n",
    "        elif alt > (2/3) and alt <= (4/3):\n",
    "            \n",
    "            karyos.append(1)\n",
    "            \n",
    "        else:\n",
    "            \n",
    "            karyos.append(2)\n",
    "    \n",
    "    match_list = []\n",
    "    \n",
    "    for index, karyo in enumerate(karyos):\n",
    "        \n",
    "        match_list.append(match_dict[karyo][index])\n",
    "            \n",
    "    md[new_col_name] = pd.Series(karyos)\n",
    "    md[mean_name] = pd.Series(av_gts)\n",
    "    md[sites_name] = pd.Series(total_sites)\n",
    "    md[match_name] = pd.Series(match_list)\n",
    "    md[match_proportion_name] = md[match_name] / md[sites_name]\n",
    "    \n",
    "    mismatches = np.sum(md[new_col_name] != md[col_name])\n",
    "    \n",
    "    print(inversion, \" # mismatches: \", mismatches,\"\\n\")\n",
    "    print(av_gts)\n",
    "    print(total_sites,\"\\n\")"
   ]
  },
  {
   "cell_type": "markdown",
   "metadata": {
    "collapsed": true
   },
   "source": [
    "##### save the relevant metadata files, which now contain results."
   ]
  },
  {
   "cell_type": "code",
   "execution_count": null,
   "metadata": {},
   "outputs": [],
   "source": []
  }
 ],
 "metadata": {
  "kernelspec": {
   "display_name": "Python 3",
   "language": "python",
   "name": "python3"
  },
  "language_info": {
   "codemirror_mode": {
    "name": "ipython",
    "version": 3
   },
   "file_extension": ".py",
   "mimetype": "text/x-python",
   "name": "python",
   "nbconvert_exporter": "python",
   "pygments_lexer": "ipython3",
   "version": "3.7.3"
  }
 },
 "nbformat": 4,
 "nbformat_minor": 2
}
