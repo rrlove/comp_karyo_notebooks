{
 "cells": [
  {
   "cell_type": "code",
   "execution_count": 1,
   "metadata": {},
   "outputs": [],
   "source": [
    "import allel\n",
    "from collections import namedtuple\n",
    "import datetime\n",
    "import h5py\n",
    "import ingenos\n",
    "import itertools\n",
    "import matplotlib.lines as mlines\n",
    "import matplotlib.patches as mpatches\n",
    "import matplotlib.pyplot as plt\n",
    "from matplotlib import collections as mc\n",
    "import numpy as np\n",
    "import pandas as pd\n",
    "import re\n",
    "import seaborn as sns\n",
    "from sklearn import model_selection\n",
    "%matplotlib inline"
   ]
  },
  {
   "cell_type": "markdown",
   "metadata": {},
   "source": [
    "##### set base directory"
   ]
  },
  {
   "cell_type": "code",
   "execution_count": 2,
   "metadata": {},
   "outputs": [],
   "source": [
    "base = \"/afs/crc.nd.edu/group/BesanskyNGS/data05/comp_karyo\""
   ]
  },
  {
   "cell_type": "markdown",
   "metadata": {},
   "source": [
    "##### read in data for 2R"
   ]
  },
  {
   "cell_type": "code",
   "execution_count": 3,
   "metadata": {},
   "outputs": [],
   "source": [
    "v_2R, g_2R = ingenos.import_data(\n",
    "    \"/afs/crc.nd.edu/group/BesanskyNGS2/inversion_genotyping/merged_p2_and_VObs_2R.h5\", \"2R\")"
   ]
  },
  {
   "cell_type": "markdown",
   "metadata": {},
   "source": [
    "##### read in data for 2L"
   ]
  },
  {
   "cell_type": "code",
   "execution_count": 4,
   "metadata": {},
   "outputs": [],
   "source": [
    "path_2L = \"/afs/crc.nd.edu/group/BesanskyNGS2/inversion_genotyping/merged_p2_and_VObs_2L.h5\"\n",
    "chrom_2L = \"2L\"\n",
    "\n",
    "callset_2L = h5py.File(path_2L, mode='r')[chrom_2L]\n",
    "\n",
    "v_2L = allel.VariantChunkedTable(callset_2L['variants'], index='POS',\n",
    "                                names=['POS','REF','ALT','DP','MQ','QD','numalt'])\n",
    "\n",
    "g_2L = allel.GenotypeChunkedArray(callset_2L['calldata']['GT'])"
   ]
  },
  {
   "cell_type": "markdown",
   "metadata": {},
   "source": [
    "##### read in metadata"
   ]
  },
  {
   "cell_type": "code",
   "execution_count": 5,
   "metadata": {},
   "outputs": [],
   "source": [
    "md_2L = pd.read_csv(base + \"/metadata/all_samples_2L_metadata_080318.csv\", sep=\"\\t\")\n",
    "md_2R = pd.read_csv(base + \"/metadata/all_samples_2R_metadata_080318.csv\", sep=\"\\t\")"
   ]
  },
  {
   "cell_type": "markdown",
   "metadata": {},
   "source": [
    "##### read in the top SNPs."
   ]
  },
  {
   "cell_type": "code",
   "execution_count": 6,
   "metadata": {},
   "outputs": [],
   "source": [
    "a_top = pd.read_csv(base + \"/data/results/2La/comp/predictive_SNPs_train_set_0995_110918.tsv\",\n",
    "               sep = \"\\t\", header=None)\n",
    "\n",
    "j_top = pd.read_csv(base + \"/data/results/2Rj/comp/predictive_SNPs_train_set_08_110918.tsv\",\n",
    "               sep = \"\\t\", header=None)\n",
    "\n",
    "b_top = pd.read_csv(base + \"/data/results/2Rb/comp/predictive_SNPs_train_set_08_110918.tsv\",\n",
    "               sep = \"\\t\", header=None)\n",
    "\n",
    "c_col_top = pd.read_csv(base + \"/data/results/2Rc/comp/col_predictive_SNPs_train_set_08_031919.tsv\", \n",
    "                      sep=\"\\t\", header=None)\n",
    "\n",
    "c_gam_top = pd.read_csv(base + \"/data/results/2Rc/comp/gam_ss_predictive_SNPs_train_set_08_031919.tsv\", \n",
    "                      sep=\"\\t\", header=None)\n",
    "\n",
    "u_top = pd.read_csv(base + \"/data/results/2Ru/comp/predictive_SNPs_train_set_08_110918.tsv\",\n",
    "               sep = \"\\t\", header=None)\n",
    "\n",
    "d_top = pd.read_csv(base + \"/data/results/2Rd/comp/predictive_SNPs_train_set_08_052619.tsv\",\n",
    "               sep = \"\\t\", header=None)"
   ]
  },
  {
   "cell_type": "code",
   "execution_count": null,
   "metadata": {},
   "outputs": [],
   "source": []
  },
  {
   "cell_type": "markdown",
   "metadata": {},
   "source": [
    "##### read in the training-validation splits to keep only the validation set"
   ]
  },
  {
   "cell_type": "code",
   "execution_count": 7,
   "metadata": {},
   "outputs": [],
   "source": [
    "splits = np.load(base + \"/metadata/comp_karyo_splits/splits.npy\", allow_pickle=True).flat[0]\n",
    "\n",
    "splits_d = np.load(base + \"/metadata/comp_karyo_splits/2Rdj_splits.npy\",\n",
    "                allow_pickle=True).flat[0]\n",
    "\n",
    "splits[\"2Rd\"] = splits_d[\"2Rd\"]"
   ]
  },
  {
   "cell_type": "markdown",
   "metadata": {},
   "source": [
    "##### mask low-quality genotypes."
   ]
  },
  {
   "cell_type": "code",
   "execution_count": 8,
   "metadata": {},
   "outputs": [],
   "source": [
    "merged_2R = h5py.File(\n",
    "    \"/afs/crc.nd.edu/group/BesanskyNGS2/inversion_genotyping/merged_p2_and_VObs_2R.h5\", \n",
    "    mode=\"r\")\n",
    "\n",
    "gq_2R = merged_2R[\"2R\"]['calldata']['GQ'][:]\n",
    "\n",
    "g_2R.mask = gq_2R < 20"
   ]
  },
  {
   "cell_type": "code",
   "execution_count": 9,
   "metadata": {},
   "outputs": [],
   "source": [
    "gq_2L = callset_2L['calldata']['GQ'][:]\n",
    "\n",
    "g_2L.mask = gq_2L < 20"
   ]
  },
  {
   "cell_type": "markdown",
   "metadata": {},
   "source": [
    "##### subset the data and the metadata"
   ]
  },
  {
   "cell_type": "code",
   "execution_count": 10,
   "metadata": {},
   "outputs": [],
   "source": [
    "g_2La = g_2L.subset(sel1 = md_2L[\"ox_code\"].isin(splits[\"2La\"][\"test\"]).values)\n",
    "g_2Rj = g_2R.subset(sel1 = md_2R[\"ox_code\"].isin(splits[\"2Rj\"][\"test\"]).values)\n",
    "g_2Rb = g_2R.subset(sel1 = md_2R[\"ox_code\"].isin(splits[\"2Rb\"][\"test\"]).values)\n",
    "g_2Rc = g_2R.subset(sel1 = md_2R[\"ox_code\"].isin(splits[\"2Rc\"][\"test\"]).values)\n",
    "g_2Rd = g_2R.subset(sel1 = md_2R[\"ox_code\"].isin(splits[\"2Rd\"][\"test\"]).values)\n",
    "g_2Ru = g_2R.subset(sel1 = md_2R[\"ox_code\"].isin(splits[\"2Ru\"][\"test\"]).values)\n",
    "\n",
    "md_2La = md_2L.loc[md_2L[\"ox_code\"].isin(splits[\"2La\"][\"test\"]),:]\n",
    "md_2Rb = md_2R.loc[md_2R[\"ox_code\"].isin(splits[\"2Rb\"][\"test\"]),:]\n",
    "md_2Rc = md_2R.loc[md_2R[\"ox_code\"].isin(splits[\"2Rc\"][\"test\"]),:]\n",
    "md_2Rd = md_2R.loc[md_2R[\"ox_code\"].isin(splits[\"2Rd\"][\"test\"]),:]\n",
    "md_2Rj = md_2R.loc[md_2R[\"ox_code\"].isin(splits[\"2Rj\"][\"test\"]),:]\n",
    "md_2Ru = md_2R.loc[md_2R[\"ox_code\"].isin(splits[\"2Ru\"][\"test\"]),:]"
   ]
  },
  {
   "cell_type": "markdown",
   "metadata": {},
   "source": [
    "##### then, subset by species for 2Rc. we also drop the Bamako specimens (Bamako is a chromosomal form defined by 2Rjcu == 2, with 2Rb polymorphic; in our data set, all gambiae specimens with 2Rj == 2 are Bamako, so we can use that as a shortcut); Bamako appears to be on an independent evolutionary trajectory"
   ]
  },
  {
   "cell_type": "code",
   "execution_count": 11,
   "metadata": {},
   "outputs": [],
   "source": [
    "g_2Rc = g_2Rc.subset(sel1 = md_2Rc[\"2Rj\"] != \"2.0\")\n",
    "md_2Rc = md_2Rc.loc[md_2Rc[\"2Rj\"] != \"2.0\",:]\n",
    "\n",
    "col_bool = (md_2Rc[\"species\"] == \"An. coluzzii\").values\n",
    "gam_bool = (md_2Rc[\"species\"] == \"An. gambiae\").values\n",
    "\n",
    "g_2Rc_col = g_2Rc.subset(sel1 = col_bool)\n",
    "g_2Rc_gam = g_2Rc.subset(sel1 = gam_bool)\n",
    "\n",
    "col_md = md_2Rc.loc[col_bool,:]\n",
    "gam_md = md_2Rc.loc[gam_bool,:]"
   ]
  },
  {
   "cell_type": "code",
   "execution_count": 12,
   "metadata": {},
   "outputs": [],
   "source": [
    "Inversion = namedtuple('Inversion',['SNPs','metadata','genotypes','inv_title'])"
   ]
  },
  {
   "cell_type": "code",
   "execution_count": 13,
   "metadata": {},
   "outputs": [
    {
     "ename": "SyntaxError",
     "evalue": "invalid syntax (<ipython-input-13-1119e6cb0aa1>, line 11)",
     "output_type": "error",
     "traceback": [
      "\u001b[0;36m  File \u001b[0;32m\"<ipython-input-13-1119e6cb0aa1>\"\u001b[0;36m, line \u001b[0;32m11\u001b[0m\n\u001b[0;31m    \"2Rd\" : Inversion(SNPs = d_top.values, metadata = md_2Rd, genotypes = g_2Rd,\u001b[0m\n\u001b[0m        ^\u001b[0m\n\u001b[0;31mSyntaxError\u001b[0m\u001b[0;31m:\u001b[0m invalid syntax\n"
     ]
    }
   ],
   "source": [
    "inv_dict = {\"2La\" : Inversion(SNPs = a_top.values, metadata = md_2La, genotypes = g_2La,\n",
    "                             inv_title = \"new_PCA_2La\"),\n",
    "           \"2Rb\" : Inversion(SNPs = b_top.values, metadata = md_2Rb, genotypes = g_2Rb,\n",
    "                            inv_title = \"new_PCA_2Rb\"),\n",
    "            \"2Rc_col\" : Inversion(SNPs = c_col_top.values, metadata = col_md, \n",
    "                                 genotypes = g_2Rc_col,\n",
    "                             inv_title = \"new_PCA_2Rc\"),\n",
    "           \"2Rc_gam\" : Inversion(SNPs = c_gam_top.values, metadata = gam_md, \n",
    "                                genotypes = g_2Rc_gam,\n",
    "                            inv_title = \"new_PCA_2Rc\")\n",
    "           \"2Rd\" : Inversion(SNPs = d_top.values, metadata = md_2Rd, genotypes = g_2Rd,\n",
    "                            inv_title = \"new_PCA_2Rd\"),\n",
    "           \"2Rj\" : Inversion(SNPs = j_top.values, metadata = md_2Rj, genotypes = g_2Rj,\n",
    "                            inv_title = \"new_PCA_2Rj\"),\n",
    "           \"2Ru\" : Inversion(SNPs = u_top.values, metadata = md_2Ru, genotypes = g_2Ru,\n",
    "                            inv_title = \"new_PCA_2Ru\")}"
   ]
  },
  {
   "cell_type": "code",
   "execution_count": null,
   "metadata": {},
   "outputs": [],
   "source": [
    "for inversion in inv_dict.keys():\n",
    "    \n",
    "    ##set up objects\n",
    "    SNPs = inv_dict[inversion].SNPs\n",
    "    md = inv_dict[inversion].metadata\n",
    "    gt = inv_dict[inversion].genotypes[:]\n",
    "    col_name = inv_dict[inversion].inv_title\n",
    "    new_col_name = inversion + \"_assigned\"\n",
    "    mean_name = inversion + \"_means\"\n",
    "    \n",
    "    if inversion == \"2La\":\n",
    "        \n",
    "        vt = v_2L[:]\n",
    "        \n",
    "    else:\n",
    "        \n",
    "        vt = v_2R[:]\n",
    "    \n",
    "    ##identify sites found in the data\n",
    "    site_indices = []\n",
    "    \n",
    "    for site in SNPs:\n",
    "    \n",
    "        where = np.where(vt[\"POS\"] == site)\n",
    "        \n",
    "        if len(where[0]) > 0:\n",
    "                \n",
    "            site_indices.append(where[0][0])\n",
    "            \n",
    "    print(inversion, \"# targets: \", str(len(SNPs)), \" # found: \", str(len(site_indices)))\n",
    "    \n",
    "    ##identify biallelic sites\n",
    "    \n",
    "    bi_bool = gt.subset(sel0 = site_indices).count_alleles().max_allele() <= 1\n",
    "        \n",
    "    alts = gt.subset(sel0 = site_indices).subset(sel0 = bi_bool).to_n_alt()\n",
    "        \n",
    "    is_called = gt.subset(sel0 = site_indices).subset(sel0 = bi_bool).is_called()\n",
    "    \n",
    "    av_gts = np.mean(np.ma.MaskedArray(\n",
    "            alts, mask = ~is_called), axis=0).data\n",
    "            \n",
    "    total_sites = np.sum(is_called, axis=0)\n",
    "        \n",
    "    karyos = []\n",
    "    \n",
    "    for alt in av_gts:\n",
    "        \n",
    "        if alt <= (2/3):\n",
    "            \n",
    "            karyos.append(0)\n",
    "            \n",
    "        elif alt > (2/3) and alt <= (4/3):\n",
    "            \n",
    "            karyos.append(1)\n",
    "            \n",
    "        else:\n",
    "            \n",
    "            karyos.append(2)\n",
    "            \n",
    "    md[new_col_name] = karyos\n",
    "    md[mean_name] = av_gts\n",
    "    \n",
    "    mismatches = np.sum(md[new_col_name] != md[col_name].map(float).map(int))\n",
    "    \n",
    "    print(inversion, \" # mismatches: \", mismatches,\"\\n\")\n",
    "    print(av_gts)\n",
    "    print(total_sites,\"\\n\")\n",
    "\n",
    "for inversion in inv_dict.keys():\n",
    "    \n",
    "    ##set up objects\n",
    "    SNPs = inv_dict[inversion].SNPs\n",
    "    md = inv_dict[inversion].metadata\n",
    "    gt = inv_dict[inversion].genotypes[:]\n",
    "    col_name = inv_dict[inversion].inv_title\n",
    "    new_col_name = inversion + \"_assigned\"\n",
    "    mean_name = inversion + \"_means\"\n",
    "    called_name = inversion + \"_called\"\n",
    "    match_name = inversion + \"_sites_matching\"\n",
    "    match_proportion_name = inversion + \"_pct_sites_matching\"\n",
    "\n",
    "    if inversion == \"2La\":\n",
    "        \n",
    "        vt = v_2L[:]\n",
    "        \n",
    "    else:\n",
    "        \n",
    "        vt = v_2R[:]\n",
    "    \n",
    "    ##identify sites found in the data\n",
    "    site_indices = []\n",
    "    \n",
    "    for site in SNPs:\n",
    "    \n",
    "        where = np.where(vt[\"POS\"] == site)\n",
    "        \n",
    "        if len(where[0]) > 0:\n",
    "                \n",
    "            site_indices.append(where[0][0])\n",
    "            \n",
    "    print(inversion, \"# targets: \", str(len(SNPs)), \" # found: \", str(len(site_indices)))\n",
    "    \n",
    "    ##identify biallelic sites\n",
    "    \n",
    "    bi_bool = gt.subset(sel0 = site_indices).count_alleles().max_allele() <= 1\n",
    "        \n",
    "    alts = gt.subset(sel0 = site_indices).subset(sel0 = bi_bool).to_n_alt()\n",
    "        \n",
    "    is_called = gt.subset(sel0 = site_indices).subset(sel0 = bi_bool).is_called()\n",
    "    \n",
    "    av_gts = np.mean(np.ma.MaskedArray(\n",
    "            alts, mask = ~is_called), axis=0).data\n",
    "    \n",
    "    match_dict = {0: None, 1: None, 2: None}\n",
    "    \n",
    "    for value in [0,1,2]:\n",
    "    \n",
    "        n_matches = np.sum(np.ma.MaskedArray(alts, mask = ~is_called) == value, axis=0)\n",
    "        match_dict[value] = n_matches\n",
    "            \n",
    "    total_sites = np.sum(is_called, axis=0)\n",
    "        \n",
    "    karyos = []\n",
    "    \n",
    "    for alt in av_gts:\n",
    "        \n",
    "        if alt <= (2/3):\n",
    "            \n",
    "            karyos.append(0)\n",
    "            \n",
    "        elif alt > (2/3) and alt <= (4/3):\n",
    "            \n",
    "            karyos.append(1)\n",
    "            \n",
    "        else:\n",
    "            \n",
    "            karyos.append(2)\n",
    "            \n",
    "    match_list = []\n",
    "    \n",
    "    for index, karyo in enumerate(karyos):\n",
    "        \n",
    "        match_list.append(match_dict[karyo][index])\n",
    "            \n",
    "    md[new_col_name] = karyos\n",
    "    md[mean_name] = av_gts\n",
    "    md[called_name] = total_sites\n",
    "    md[match_name] = pd.Series(match_list)\n",
    "    md[match_proportion_name] = md[match_name] / md[called_name]\n",
    "    \n",
    "    print(inversion,\"\\n\")\n",
    "    print(av_gts)\n",
    "    print(total_sites,\"\\n\")"
   ]
  },
  {
   "cell_type": "code",
   "execution_count": null,
   "metadata": {},
   "outputs": [],
   "source": []
  },
  {
   "cell_type": "code",
   "execution_count": null,
   "metadata": {},
   "outputs": [],
   "source": []
  },
  {
   "cell_type": "code",
   "execution_count": null,
   "metadata": {},
   "outputs": [],
   "source": []
  },
  {
   "cell_type": "markdown",
   "metadata": {},
   "source": [
    "##### repeat for all specimens to karyotype them all"
   ]
  },
  {
   "cell_type": "code",
   "execution_count": null,
   "metadata": {},
   "outputs": [],
   "source": [
    "inv_dict = {\"2La\" : Inversion(SNPs = a_top.values, metadata = md_2L, genotypes = g_2L,\n",
    "                             inv_title = \"new_PCA_2La\"),\n",
    "            \"2Rj\" : Inversion(SNPs = j_top.values, metadata = md_2R, genotypes = g_2R,\n",
    "                            inv_title = \"new_PCA_2Rj\"),\n",
    "           \"2Rb\" : Inversion(SNPs = b_top.values, metadata = md_2R, genotypes = g_2R,\n",
    "                            inv_title = \"new_PCA_2Rb\"),\n",
    "            \"2Rc_col\" : Inversion(SNPs = c_col_top.values, metadata = md_2R, genotypes = g_2R,\n",
    "                            inv_title = \"new_PCA_2Rc\"),\n",
    "           \"2Rc_gam\" : Inversion(SNPs = c_gam_top.values, metadata = md_2R, genotypes = g_2R, \n",
    "                            inv_title = \"new_PCA_2Rc\"),\n",
    "           \"2Rd\" : Inversion(SNPs = d_top.values, metadata = md_2R, genotypes = g_2R,\n",
    "                            inv_title = \"new_PCA_2Rd\"),\n",
    "           \"2Ru\" : Inversion(SNPs = u_top.values, metadata = md_2R, genotypes = g_2R,\n",
    "                            inv_title = \"new_PCA_2Ru\")}"
   ]
  },
  {
   "cell_type": "code",
   "execution_count": null,
   "metadata": {},
   "outputs": [],
   "source": [
    "for inversion in inv_dict.keys():\n",
    "    \n",
    "    ##set up objects\n",
    "    SNPs = inv_dict[inversion].SNPs\n",
    "    md = inv_dict[inversion].metadata\n",
    "    gt = inv_dict[inversion].genotypes[:]\n",
    "    col_name = inv_dict[inversion].inv_title\n",
    "    new_col_name = inversion + \"_assigned\"\n",
    "    mean_name = inversion + \"_means\"\n",
    "    called_name = inversion + \"_called\"\n",
    "    match_name = inversion + \"_sites_matching\"\n",
    "    match_proportion_name = inversion + \"_pct_sites_matching\"\n",
    "\n",
    "    if inversion == \"2La\":\n",
    "        \n",
    "        vt = v_2L[:]\n",
    "        \n",
    "    else:\n",
    "        \n",
    "        vt = v_2R[:]\n",
    "    \n",
    "    ##identify sites found in the data\n",
    "    site_indices = []\n",
    "    \n",
    "    for site in SNPs:\n",
    "    \n",
    "        where = np.where(vt[\"POS\"] == site)\n",
    "        \n",
    "        if len(where[0]) > 0:\n",
    "                \n",
    "            site_indices.append(where[0][0])\n",
    "            \n",
    "    print(inversion, \"# targets: \", str(len(SNPs)), \" # found: \", str(len(site_indices)))\n",
    "    \n",
    "    ##identify biallelic sites\n",
    "    \n",
    "    bi_bool = gt.subset(sel0 = site_indices).count_alleles().max_allele() <= 1\n",
    "        \n",
    "    alts = gt.subset(sel0 = site_indices).subset(sel0 = bi_bool).to_n_alt()\n",
    "        \n",
    "    is_called = gt.subset(sel0 = site_indices).subset(sel0 = bi_bool).is_called()\n",
    "    \n",
    "    av_gts = np.mean(np.ma.MaskedArray(\n",
    "            alts, mask = ~is_called), axis=0).data\n",
    "    \n",
    "    match_dict = {0: None, 1: None, 2: None}\n",
    "    \n",
    "    for value in [0,1,2]:\n",
    "    \n",
    "        n_matches = np.sum(np.ma.MaskedArray(alts, mask = ~is_called) == value, axis=0)\n",
    "        match_dict[value] = n_matches\n",
    "            \n",
    "    total_sites = np.sum(is_called, axis=0)\n",
    "        \n",
    "    karyos = []\n",
    "    \n",
    "    for alt in av_gts:\n",
    "        \n",
    "        if alt <= (2/3):\n",
    "            \n",
    "            karyos.append(0)\n",
    "            \n",
    "        elif alt > (2/3) and alt <= (4/3):\n",
    "            \n",
    "            karyos.append(1)\n",
    "            \n",
    "        else:\n",
    "            \n",
    "            karyos.append(2)\n",
    "            \n",
    "    match_list = []\n",
    "    \n",
    "    for index, karyo in enumerate(karyos):\n",
    "        \n",
    "        match_list.append(match_dict[karyo][index])\n",
    "            \n",
    "    md[new_col_name] = karyos\n",
    "    md[mean_name] = av_gts\n",
    "    md[called_name] = total_sites\n",
    "    md[match_name] = pd.Series(match_list)\n",
    "    md[match_proportion_name] = md[match_name] / md[called_name]\n",
    "    \n",
    "    print(inversion,\"\\n\")\n",
    "    print(av_gts)\n",
    "    print(total_sites,\"\\n\")"
   ]
  },
  {
   "cell_type": "markdown",
   "metadata": {},
   "source": [
    "##### save these two metadata files to the desired locations, as they now contain results"
   ]
  }
 ],
 "metadata": {
  "kernelspec": {
   "display_name": "Python 3",
   "language": "python",
   "name": "python3"
  },
  "language_info": {
   "codemirror_mode": {
    "name": "ipython",
    "version": 3
   },
   "file_extension": ".py",
   "mimetype": "text/x-python",
   "name": "python",
   "nbconvert_exporter": "python",
   "pygments_lexer": "ipython3",
   "version": "3.7.3"
  }
 },
 "nbformat": 4,
 "nbformat_minor": 2
}
